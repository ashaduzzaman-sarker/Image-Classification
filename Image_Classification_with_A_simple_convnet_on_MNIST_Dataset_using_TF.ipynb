{
  "nbformat": 4,
  "nbformat_minor": 0,
  "metadata": {
    "colab": {
      "provenance": [],
      "machine_shape": "hm",
      "gpuType": "L4",
      "include_colab_link": true
    },
    "kernelspec": {
      "name": "python3",
      "display_name": "Python 3"
    },
    "language_info": {
      "name": "python"
    },
    "accelerator": "GPU"
  },
  "cells": [
    {
      "cell_type": "markdown",
      "metadata": {
        "id": "view-in-github",
        "colab_type": "text"
      },
      "source": [
        "<a href=\"https://colab.research.google.com/github/ashaduzzaman-sarker/Computer-Vision-Projects/blob/main/Image_Classification_with_A_simple_convnet_on_MNIST_Dataset_using_TF.ipynb\" target=\"_parent\"><img src=\"https://colab.research.google.com/assets/colab-badge.svg\" alt=\"Open In Colab\"/></a>"
      ]
    },
    {
      "cell_type": "markdown",
      "source": [
        "# Image Classification with A simple convnet on MNIST Dataset using Tensorflow Keras\n",
        "\n",
        "**Author:** [Ashaduzzaman Piash](www.linkedin.com/in/ashaduzzaman-sarker-piash)<br>\n",
        "**Date created:** 2024/06/16<br>"
      ],
      "metadata": {
        "id": "ip4Wb-1dNXrR"
      }
    },
    {
      "cell_type": "markdown",
      "source": [
        "## Setup"
      ],
      "metadata": {
        "id": "DLm5WyylOREA"
      }
    },
    {
      "cell_type": "code",
      "source": [
        "import numpy as np\n",
        "import keras\n",
        "from keras import layers"
      ],
      "metadata": {
        "id": "AraDnUvbOIXa"
      },
      "execution_count": 1,
      "outputs": []
    },
    {
      "cell_type": "markdown",
      "source": [
        "## Load the data: MNIST dataset"
      ],
      "metadata": {
        "id": "W3X66HTYOkn5"
      }
    },
    {
      "cell_type": "code",
      "source": [
        "# Load the data and split it between train and test sets\n",
        "(x_train, y_train), (x_test, y_test) = keras.datasets.mnist.load_data()"
      ],
      "metadata": {
        "colab": {
          "base_uri": "https://localhost:8080/"
        },
        "id": "CiZQMEQCOoU9",
        "outputId": "303a1708-2893-4bc6-a873-654541731968"
      },
      "execution_count": 2,
      "outputs": [
        {
          "output_type": "stream",
          "name": "stdout",
          "text": [
            "Downloading data from https://storage.googleapis.com/tensorflow/tf-keras-datasets/mnist.npz\n",
            "11490434/11490434 [==============================] - 0s 0us/step\n"
          ]
        }
      ]
    },
    {
      "cell_type": "markdown",
      "source": [
        "## Prepare the data"
      ],
      "metadata": {
        "id": "qgRKRon6PEbJ"
      }
    },
    {
      "cell_type": "code",
      "source": [
        "# Model / data parameters\n",
        "num_classes = 10\n",
        "input_shape = (28, 28, 1)"
      ],
      "metadata": {
        "collapsed": true,
        "id": "CFswVe3FPGrW"
      },
      "execution_count": 3,
      "outputs": []
    },
    {
      "cell_type": "code",
      "source": [
        "# Scale images to the [0, 1] range\n",
        "x_train = x_train.astype('float32') / 255\n",
        "x_test = x_test.astype('float32') / 255"
      ],
      "metadata": {
        "id": "2pjzoZ_vPf-2"
      },
      "execution_count": 4,
      "outputs": []
    },
    {
      "cell_type": "code",
      "source": [
        "# Make sure images have shape (28, 28, 1)\n",
        "x_train = np.expand_dims(x_train, -1)\n",
        "x_test = np.expand_dims(x_test, -1)\n",
        "\n",
        "# See the Shapes of Train and Test Images\n",
        "print('Training images shape:', x_train.shape)\n",
        "print(x_train.shape[0], 'train images')\n",
        "print(x_test.shape[0], 'test images')"
      ],
      "metadata": {
        "colab": {
          "base_uri": "https://localhost:8080/"
        },
        "id": "g5qCcz6_P2UN",
        "outputId": "4c353766-7080-47b0-9de9-2996e3080362"
      },
      "execution_count": 5,
      "outputs": [
        {
          "output_type": "stream",
          "name": "stdout",
          "text": [
            "Training images shape: (60000, 28, 28, 1)\n",
            "60000 train images\n",
            "10000 test images\n"
          ]
        }
      ]
    },
    {
      "cell_type": "code",
      "source": [
        "# convert class vectors to binary class matrices\n",
        "y_train = keras.utils.to_categorical(y_train, num_classes)\n",
        "y_test = keras.utils.to_categorical(y_test, num_classes)"
      ],
      "metadata": {
        "id": "fNa7-OzNQyob"
      },
      "execution_count": 6,
      "outputs": []
    },
    {
      "cell_type": "markdown",
      "source": [
        "## Build the model\n"
      ],
      "metadata": {
        "id": "SZZL7b2tRF_H"
      }
    },
    {
      "cell_type": "code",
      "source": [
        "model = keras.Sequential(\n",
        "    [\n",
        "        keras.Input(shape=input_shape),\n",
        "        layers.Conv2D(32, kernel_size=(3,3), activation='relu'),\n",
        "        layers.MaxPooling2D(pool_size=(2,2)),\n",
        "\n",
        "        layers.Conv2D(64, kernel_size=(3,3), activation='relu'),\n",
        "        layers.MaxPooling2D(pool_size=(2,2)),\n",
        "\n",
        "        layers.Flatten(),\n",
        "        layers.Dropout(0.5),\n",
        "        layers.Dense(num_classes, activation='softmax'),\n",
        "    ]\n",
        ")\n",
        "\n",
        "model.summary()"
      ],
      "metadata": {
        "colab": {
          "base_uri": "https://localhost:8080/"
        },
        "id": "NbCyiVP1RKcN",
        "outputId": "91c603c7-de6d-4ca3-ded4-c3744e4e1426"
      },
      "execution_count": 7,
      "outputs": [
        {
          "output_type": "stream",
          "name": "stdout",
          "text": [
            "Model: \"sequential\"\n",
            "_________________________________________________________________\n",
            " Layer (type)                Output Shape              Param #   \n",
            "=================================================================\n",
            " conv2d (Conv2D)             (None, 26, 26, 32)        320       \n",
            "                                                                 \n",
            " max_pooling2d (MaxPooling2  (None, 13, 13, 32)        0         \n",
            " D)                                                              \n",
            "                                                                 \n",
            " conv2d_1 (Conv2D)           (None, 11, 11, 64)        18496     \n",
            "                                                                 \n",
            " max_pooling2d_1 (MaxPoolin  (None, 5, 5, 64)          0         \n",
            " g2D)                                                            \n",
            "                                                                 \n",
            " flatten (Flatten)           (None, 1600)              0         \n",
            "                                                                 \n",
            " dropout (Dropout)           (None, 1600)              0         \n",
            "                                                                 \n",
            " dense (Dense)               (None, 10)                16010     \n",
            "                                                                 \n",
            "=================================================================\n",
            "Total params: 34826 (136.04 KB)\n",
            "Trainable params: 34826 (136.04 KB)\n",
            "Non-trainable params: 0 (0.00 Byte)\n",
            "_________________________________________________________________\n"
          ]
        }
      ]
    },
    {
      "cell_type": "markdown",
      "source": [
        "## Train the model"
      ],
      "metadata": {
        "id": "Xzj5SuIGTDU-"
      }
    },
    {
      "cell_type": "code",
      "source": [
        "batch_size = 32\n",
        "epochs = 15\n",
        "\n",
        "model.compile(loss='categorical_crossentropy',\n",
        "              optimizer='adam',\n",
        "              metrics=['accuracy'])\n",
        "\n",
        "model.fit(x_train,\n",
        "          y_train,\n",
        "          batch_size=batch_size,\n",
        "          epochs=epochs,\n",
        "          validation_split=0.1)"
      ],
      "metadata": {
        "colab": {
          "base_uri": "https://localhost:8080/"
        },
        "id": "KUvcH9C6TGXm",
        "outputId": "718e859d-a20e-4c73-8339-8654774395b1"
      },
      "execution_count": 8,
      "outputs": [
        {
          "output_type": "stream",
          "name": "stdout",
          "text": [
            "Epoch 1/15\n",
            "1688/1688 [==============================] - 10s 4ms/step - loss: 0.2295 - accuracy: 0.9277 - val_loss: 0.0584 - val_accuracy: 0.9847\n",
            "Epoch 2/15\n",
            "1688/1688 [==============================] - 5s 3ms/step - loss: 0.0844 - accuracy: 0.9742 - val_loss: 0.0446 - val_accuracy: 0.9868\n",
            "Epoch 3/15\n",
            "1688/1688 [==============================] - 5s 3ms/step - loss: 0.0689 - accuracy: 0.9785 - val_loss: 0.0458 - val_accuracy: 0.9862\n",
            "Epoch 4/15\n",
            "1688/1688 [==============================] - 5s 3ms/step - loss: 0.0594 - accuracy: 0.9816 - val_loss: 0.0353 - val_accuracy: 0.9903\n",
            "Epoch 5/15\n",
            "1688/1688 [==============================] - 5s 3ms/step - loss: 0.0509 - accuracy: 0.9840 - val_loss: 0.0334 - val_accuracy: 0.9895\n",
            "Epoch 6/15\n",
            "1688/1688 [==============================] - 5s 3ms/step - loss: 0.0468 - accuracy: 0.9849 - val_loss: 0.0339 - val_accuracy: 0.9913\n",
            "Epoch 7/15\n",
            "1688/1688 [==============================] - 5s 3ms/step - loss: 0.0410 - accuracy: 0.9868 - val_loss: 0.0292 - val_accuracy: 0.9925\n",
            "Epoch 8/15\n",
            "1688/1688 [==============================] - 5s 3ms/step - loss: 0.0392 - accuracy: 0.9871 - val_loss: 0.0302 - val_accuracy: 0.9922\n",
            "Epoch 9/15\n",
            "1688/1688 [==============================] - 5s 3ms/step - loss: 0.0368 - accuracy: 0.9885 - val_loss: 0.0337 - val_accuracy: 0.9908\n",
            "Epoch 10/15\n",
            "1688/1688 [==============================] - 5s 3ms/step - loss: 0.0346 - accuracy: 0.9884 - val_loss: 0.0269 - val_accuracy: 0.9928\n",
            "Epoch 11/15\n",
            "1688/1688 [==============================] - 5s 3ms/step - loss: 0.0326 - accuracy: 0.9899 - val_loss: 0.0298 - val_accuracy: 0.9915\n",
            "Epoch 12/15\n",
            "1688/1688 [==============================] - 5s 3ms/step - loss: 0.0311 - accuracy: 0.9902 - val_loss: 0.0310 - val_accuracy: 0.9917\n",
            "Epoch 13/15\n",
            "1688/1688 [==============================] - 5s 3ms/step - loss: 0.0291 - accuracy: 0.9901 - val_loss: 0.0317 - val_accuracy: 0.9925\n",
            "Epoch 14/15\n",
            "1688/1688 [==============================] - 5s 3ms/step - loss: 0.0282 - accuracy: 0.9902 - val_loss: 0.0285 - val_accuracy: 0.9932\n",
            "Epoch 15/15\n",
            "1688/1688 [==============================] - 5s 3ms/step - loss: 0.0266 - accuracy: 0.9912 - val_loss: 0.0293 - val_accuracy: 0.9917\n"
          ]
        },
        {
          "output_type": "execute_result",
          "data": {
            "text/plain": [
              "<keras.src.callbacks.History at 0x7efec691a7a0>"
            ]
          },
          "metadata": {},
          "execution_count": 8
        }
      ]
    },
    {
      "cell_type": "markdown",
      "source": [
        "## Evaluate the trained model"
      ],
      "metadata": {
        "id": "UjVlED2nT4Nu"
      }
    },
    {
      "cell_type": "code",
      "source": [
        "score = model.evaluate(x_test, y_test, verbose=0)\n",
        "\n",
        "print(f'Test Loss:', score[0])\n",
        "print(f'Test Accuracy:', score[1])"
      ],
      "metadata": {
        "colab": {
          "base_uri": "https://localhost:8080/"
        },
        "id": "rVal3v8RT5dg",
        "outputId": "2126dff6-86d1-469a-afa9-0570f9ebd1b6"
      },
      "execution_count": 9,
      "outputs": [
        {
          "output_type": "stream",
          "name": "stdout",
          "text": [
            "Test Loss: 0.023197026923298836\n",
            "Test Accuracy: 0.9919999837875366\n"
          ]
        }
      ]
    }
  ]
}