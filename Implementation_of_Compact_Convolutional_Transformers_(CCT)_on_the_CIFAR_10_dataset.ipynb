{
  "nbformat": 4,
  "nbformat_minor": 0,
  "metadata": {
    "colab": {
      "provenance": [],
      "machine_shape": "hm",
      "gpuType": "L4",
      "authorship_tag": "ABX9TyOAuJ3hcdBasoTcU7dDAxF2",
      "include_colab_link": true
    },
    "kernelspec": {
      "name": "python3",
      "display_name": "Python 3"
    },
    "language_info": {
      "name": "python"
    },
    "accelerator": "GPU"
  },
  "cells": [
    {
      "cell_type": "markdown",
      "metadata": {
        "id": "view-in-github",
        "colab_type": "text"
      },
      "source": [
        "<a href=\"https://colab.research.google.com/github/ashaduzzaman-sarker/Image-Classification/blob/main/Implementation_of_Compact_Convolutional_Transformers_(CCT)_on_the_CIFAR_10_dataset.ipynb\" target=\"_parent\"><img src=\"https://colab.research.google.com/assets/colab-badge.svg\" alt=\"Open In Colab\"/></a>"
      ]
    },
    {
      "cell_type": "markdown",
      "source": [
        "# Compact Convolutional Transformers (CCT) for efficient image classification on the CIFAR-10 dataset\n",
        "\n",
        "**Author:** [Ashaduzzaman Piash](\n",
        "https://github.com/ashaduzzaman-sarker/)\n",
        "<br>\n",
        "**Date created:** 19/06/2024\n",
        "<br>\n",
        "**Reference:** [Escaping the Big Data Paradigm with Compact Transformers](https://doi.org/10.48550/arXiv.2104.05704)\n"
      ],
      "metadata": {
        "id": "ptakeoAuCtZ1"
      }
    },
    {
      "cell_type": "markdown",
      "source": [
        "## Introduction\n",
        "\n",
        "### **Vision Transformers (ViT)**:\n",
        "  - **Requirement**: Larger datasets and longer pre-training schedules.\n",
        "  - **Example**: ImageNet-1k (1 million images) is medium-sized for ViTs.\n",
        "  - **Reason**: ViTs lack inductive biases (e.g., convolutions in CNNs).\n",
        "\n",
        "  - **Key Question**:\n",
        "    - **Possibility**: Combining benefits of convolutions and Transformers.\n",
        "    - **Benefits**: Parameter-efficiency, self-attention for long-range and global dependencies.\n",
        "\n",
        "### **Compact Convolutional Transformer (CCT)**:\n",
        "  - **Proposal**: By Hassani et al. in \"[Escaping the Big Data Paradigm with Compact Transformers](https://doi.org/10.48550/arXiv.2104.05704)\"\n",
        "  - **Goal**: Integrate the strengths of convolutional networks and Transformers.\n",
        "\n",
        "  - **Implementation**:\n",
        "    - **Dataset**: CIFAR-10.\n",
        "    - **Performance**: Evaluate CCT's effectiveness on CIFAR-10.\n",
        "\n",
        "  - **CCT Architecture:**\n",
        "\n",
        "![](https://www.researchgate.net/publication/361183302/figure/fig2/AS:1164977956233218@1654763797473/Compact-convolutional-transformer-CCT-model-architecture.png)"
      ],
      "metadata": {
        "id": "b7ZHh_cMEB9o"
      }
    },
    {
      "cell_type": "markdown",
      "source": [
        "## Imports"
      ],
      "metadata": {
        "id": "sfNECAr4F5AI"
      }
    },
    {
      "cell_type": "code",
      "source": [
        "# Update to keras 3\n",
        "!pip install --upgrade keras"
      ],
      "metadata": {
        "colab": {
          "base_uri": "https://localhost:8080/"
        },
        "id": "i6-QSxfQIhhi",
        "outputId": "381198d4-5e1b-4c87-9e8d-753d47085f32"
      },
      "execution_count": 1,
      "outputs": [
        {
          "output_type": "stream",
          "name": "stdout",
          "text": [
            "Requirement already satisfied: keras in /usr/local/lib/python3.10/dist-packages (2.15.0)\n",
            "Collecting keras\n",
            "  Downloading keras-3.3.3-py3-none-any.whl (1.1 MB)\n",
            "\u001b[2K     \u001b[90m━━━━━━━━━━━━━━━━━━━━━━━━━━━━━━━━━━━━━━━━\u001b[0m \u001b[32m1.1/1.1 MB\u001b[0m \u001b[31m9.3 MB/s\u001b[0m eta \u001b[36m0:00:00\u001b[0m\n",
            "\u001b[?25hRequirement already satisfied: absl-py in /usr/local/lib/python3.10/dist-packages (from keras) (1.4.0)\n",
            "Requirement already satisfied: numpy in /usr/local/lib/python3.10/dist-packages (from keras) (1.25.2)\n",
            "Requirement already satisfied: rich in /usr/local/lib/python3.10/dist-packages (from keras) (13.7.1)\n",
            "Collecting namex (from keras)\n",
            "  Downloading namex-0.0.8-py3-none-any.whl (5.8 kB)\n",
            "Requirement already satisfied: h5py in /usr/local/lib/python3.10/dist-packages (from keras) (3.9.0)\n",
            "Collecting optree (from keras)\n",
            "  Downloading optree-0.11.0-cp310-cp310-manylinux_2_17_x86_64.manylinux2014_x86_64.whl (311 kB)\n",
            "\u001b[2K     \u001b[90m━━━━━━━━━━━━━━━━━━━━━━━━━━━━━━━━━━━━━━━━\u001b[0m \u001b[32m311.2/311.2 kB\u001b[0m \u001b[31m13.1 MB/s\u001b[0m eta \u001b[36m0:00:00\u001b[0m\n",
            "\u001b[?25hRequirement already satisfied: ml-dtypes in /usr/local/lib/python3.10/dist-packages (from keras) (0.2.0)\n",
            "Requirement already satisfied: typing-extensions>=4.0.0 in /usr/local/lib/python3.10/dist-packages (from optree->keras) (4.12.2)\n",
            "Requirement already satisfied: markdown-it-py>=2.2.0 in /usr/local/lib/python3.10/dist-packages (from rich->keras) (3.0.0)\n",
            "Requirement already satisfied: pygments<3.0.0,>=2.13.0 in /usr/local/lib/python3.10/dist-packages (from rich->keras) (2.16.1)\n",
            "Requirement already satisfied: mdurl~=0.1 in /usr/local/lib/python3.10/dist-packages (from markdown-it-py>=2.2.0->rich->keras) (0.1.2)\n",
            "Installing collected packages: namex, optree, keras\n",
            "  Attempting uninstall: keras\n",
            "    Found existing installation: keras 2.15.0\n",
            "    Uninstalling keras-2.15.0:\n",
            "      Successfully uninstalled keras-2.15.0\n",
            "\u001b[31mERROR: pip's dependency resolver does not currently take into account all the packages that are installed. This behaviour is the source of the following dependency conflicts.\n",
            "tensorflow 2.15.0 requires keras<2.16,>=2.15.0, but you have keras 3.3.3 which is incompatible.\u001b[0m\u001b[31m\n",
            "\u001b[0mSuccessfully installed keras-3.3.3 namex-0.0.8 optree-0.11.0\n"
          ]
        }
      ]
    },
    {
      "cell_type": "code",
      "execution_count": 2,
      "metadata": {
        "id": "0vXK5TrGCY5x"
      },
      "outputs": [],
      "source": [
        "import numpy as np\n",
        "import pandas as pd\n",
        "import matplotlib.pyplot as plt\n",
        "import tensorflow as tf\n",
        "\n",
        "import keras\n",
        "from keras import layers"
      ]
    },
    {
      "cell_type": "markdown",
      "source": [
        "## Hyperparameters and Constants"
      ],
      "metadata": {
        "id": "IWxa4ugJJFee"
      }
    },
    {
      "cell_type": "code",
      "source": [
        "## Configuration for the Compact Convolutional Transformer (CCT)\n",
        "\n",
        "positional_emb = True    # Use positional embedding\n",
        "conv_layers = 2          # Number of convolutional layers\n",
        "projection_dim =128      # Dimensionality of the projection\n",
        "\n",
        "num_heads = 2            # Number of attention heads in the Transformer\n",
        "\n",
        "# Units in the Transformer layers\n",
        "transformer_units = [\n",
        "    projection_dim,\n",
        "    projection_dim,\n",
        "]\n",
        "\n",
        "transformer_layers = 2   # Number of Transformer layers\n",
        "stocastic_depth_rate = 0.1   # Rate of stochastic depth (used for regularization)\n",
        "\n",
        "# Training hyperparameters\n",
        "learning_rate = 0.001\n",
        "weight_decay = 0.0001\n",
        "batch_size = 128\n",
        "num_epochs = 30\n",
        "image_size = 32          # Size of the input images (CIFAR-10)"
      ],
      "metadata": {
        "id": "7dHrV2IsJDSV"
      },
      "execution_count": 3,
      "outputs": []
    },
    {
      "cell_type": "markdown",
      "source": [
        "## Load CIFAR-10 dataset"
      ],
      "metadata": {
        "id": "CR_CWIZuKvJ_"
      }
    },
    {
      "cell_type": "code",
      "source": [
        "# Number of classes in the CIFAR-10 dataset\n",
        "num_classes =10\n",
        "\n",
        "# Shape of the input images\n",
        "input_shape = (32, 32, 3)\n",
        "\n",
        "# Load CIFAR-10 dataset from keras\n",
        "(x_train, y_train), (x_test, y_test) = keras.datasets.cifar10.load_data()\n",
        "\n",
        "# Convert class vectors to binary class matrices (one-hot encoding)\n",
        "y_train = keras.utils.to_categorical(y_train, num_classes)\n",
        "y_test = keras.utils.to_categorical(y_test, num_classes)\n",
        "\n",
        "# Print shapes of the training and test datasets\n",
        "print(f'x_train shape: {x_train.shape} - y_train shape: {y_train.shape}')\n",
        "print(f'x_test shape: {x_test.shape} - y_test shape: {y_test.shape}')"
      ],
      "metadata": {
        "colab": {
          "base_uri": "https://localhost:8080/"
        },
        "id": "W8Nuo8C4Kv00",
        "outputId": "fefc8099-2509-4fff-ac3b-103e0c1f609e"
      },
      "execution_count": 4,
      "outputs": [
        {
          "output_type": "stream",
          "name": "stdout",
          "text": [
            "Downloading data from https://www.cs.toronto.edu/~kriz/cifar-10-python.tar.gz\n",
            "\u001b[1m170498071/170498071\u001b[0m \u001b[32m━━━━━━━━━━━━━━━━━━━━\u001b[0m\u001b[37m\u001b[0m \u001b[1m10s\u001b[0m 0us/step\n",
            "x_train shape: (50000, 32, 32, 3) - y_train shape: (50000, 10)\n",
            "x_test shape: (10000, 32, 32, 3) - y_test shape: (10000, 10)\n"
          ]
        }
      ]
    },
    {
      "cell_type": "markdown",
      "source": [
        "## The CCT tokenizer\n",
        "\n",
        "- **Function**: Processes images for the neural network.\n",
        "- **Comparison**: Standard ViTs use uniform, non-overlapping patches.\n",
        "- **Advantage**: Preserves boundary-level information between patches.\n",
        "- **Benefit**: Helps the neural network exploit locality information effectively.\n",
        "- **Illustration**: Shows how images are organized into patches.\n",
        "\n",
        "![](https://i.imgur.com/IkBK9oY.png)"
      ],
      "metadata": {
        "id": "ZpgK466UM4rn"
      }
    },
    {
      "cell_type": "code",
      "source": [
        "class CCTTokenizer(layers.Layer):\n",
        "  def __init__(\n",
        "      self,\n",
        "      kernel_size=3,\n",
        "      stride=1,\n",
        "      padding=1,\n",
        "      pooling_kernel_size=3,\n",
        "      pooling_stride=2,\n",
        "      num_conv_layers=conv_layers,\n",
        "      num_output_channels=[64, 128],\n",
        "      positional_emb=positional_emb,\n",
        "      **kwargs,\n",
        "  ):\n",
        "      super().__init__(**kwargs)\n",
        "\n",
        "      # Initialize a sequential model to serve as the tokenizer\n",
        "      self.conv_model=keras.Sequential()\n",
        "      for i in range(num_conv_layers):\n",
        "        self.conv_model.add(\n",
        "            layers.Conv2D(\n",
        "                num_output_channels[i],\n",
        "                kernel_size,\n",
        "                stride,\n",
        "                padding='valid',\n",
        "                use_bias=False,\n",
        "                activation='relu',\n",
        "                kernel_initializer='he_normal',\n",
        "            )\n",
        "        )\n",
        "        self.conv_model.add(layers.ZeroPadding2D(padding))\n",
        "        self.conv_model.add(\n",
        "            layers.MaxPooling2D(pooling_kernel_size, pooling_stride, 'same')\n",
        "        )\n",
        "\n",
        "      # Whether to use positional embeddings\n",
        "      self.positional_emb = positional_emb\n",
        "\n",
        "  def call(self, images):\n",
        "    # Pass the images through the convolutional model\n",
        "    outputs = self.conv_model(images)\n",
        "\n",
        "    # Flatten the spatial dimensions to form sequences\n",
        "    reshaped = keras.ops.reshape(\n",
        "        outputs,\n",
        "        (\n",
        "            -1,    # Keep the batch size the same\n",
        "            keras.ops.shape(outputs)[1] * keras.ops.shape(outputs)[2],  # Flatten spatial dimensions\n",
        "            keras.ops.shape(outputs)[-1],  # Keep the number of channels the same\n",
        "        ),\n",
        "    )\n",
        "    return reshaped\n"
      ],
      "metadata": {
        "id": "Dv5YfploL-8D"
      },
      "execution_count": 5,
      "outputs": []
    },
    {
      "cell_type": "markdown",
      "source": [
        "## Positional Embeddings\n",
        "\n",
        "- Positional embeddings are optional in CCT"
      ],
      "metadata": {
        "id": "z7_HpfibSCDY"
      }
    },
    {
      "cell_type": "code",
      "source": [
        "class PositionEmbedding(keras.layers.Layer):\n",
        "  def __init__(\n",
        "      self,\n",
        "      sequence_length,\n",
        "      initializer='glorot_uniform',\n",
        "      **kwargs,\n",
        "  ):\n",
        "      super().__init__(**kwargs)\n",
        "      # Ensure sequence_length is provided\n",
        "      if sequence_length is None:\n",
        "        raise ValueError('`sequence_length` must be an Integer, received `None`.')\n",
        "      self.sequence_length = int(sequence_length)\n",
        "      self.initializer = keras.initializers.get(initializer)\n",
        "\n",
        "  def get_config(self):\n",
        "    # Return the configuration of the layer\n",
        "    config = super().get_config()\n",
        "    config.update(\n",
        "        {\n",
        "            'sequence_length': self.sequence_length,\n",
        "            'initializer': keras.initializers.serialize(self.initializer),\n",
        "        }\n",
        "    )\n",
        "    return config\n",
        "\n",
        "  def build(self, input_shape):\n",
        "    # Define the position embeddings weight matrix\n",
        "    feature_size = input_shape[-1]\n",
        "    self.position_embeddings = self.add_weight(\n",
        "        name='embeddings',\n",
        "        shape=[self.sequence_length, feature_size],\n",
        "        initializer=self.initializer,\n",
        "        trainable=True,\n",
        "    )\n",
        "\n",
        "    super().build(input_shape)\n",
        "\n",
        "  def call(self, inputs, start_index=0):\n",
        "    shape = keras.ops.shape(inputs)\n",
        "    feature_length = shape[-1]\n",
        "    sequence_length = shape[-2]\n",
        "\n",
        "    # Convert position_embeddings to tensor and slice to match the input sequence length\n",
        "    position_embeddings = keras.ops.convert_to_tensor(self.position_embeddings)\n",
        "    position_embeddings = keras.ops.slice(\n",
        "        position_embeddings,\n",
        "        (start_index, 0),\n",
        "        (sequence_length, feature_length),\n",
        "    )\n",
        "    # Broadcast position embeddings to match the input shape\n",
        "    return keras.ops.broadcast_to(position_embeddings, shape)\n",
        "\n",
        "  def compute_output_shape(self, input_shape):\n",
        "    # Output shape is the same as the input shape\n",
        "    return input_shape"
      ],
      "metadata": {
        "id": "vFMDZzuORpux"
      },
      "execution_count": 6,
      "outputs": []
    },
    {
      "cell_type": "markdown",
      "source": [
        "## Sequence Pooling / Attention pooling"
      ],
      "metadata": {
        "id": "gA09NJdxXSat"
      }
    },
    {
      "cell_type": "code",
      "source": [
        "class SequencePooling(layers.Layer):\n",
        "  def __init__(self):\n",
        "    super().__init__()\n",
        "     # Define a Dense layer to compute attention scores\n",
        "    self.attention = layers.Dense(1)\n",
        "\n",
        "  def call(self, x):\n",
        "    # Compute attention weights and apply softmax along the sequence dimension\n",
        "    attention_weights = keras.ops.softmax(self.attention(x), axis=1)\n",
        "\n",
        "    # Transpose attention weights for matrix multiplication\n",
        "    attention_weights = keras.ops.transpose(attention_weights, axes=(0, 2, 1))\n",
        "\n",
        "    # Compute the weighted representation by performing matrix multiplication\n",
        "    weighted_representation = keras.ops.matmul(attention_weights, x)\n",
        "\n",
        "    # Squeeze out the single-dimensional entries from the shape\n",
        "    return keras.ops.squeeze(weighted_representation, -2)"
      ],
      "metadata": {
        "id": "X-mo3oAAWpbC"
      },
      "execution_count": 7,
      "outputs": []
    },
    {
      "cell_type": "markdown",
      "source": [
        "## Stochastic depth for regularization\n",
        "\n",
        "- **Function**: A regularization technique that randomly drops a set of layers.\n",
        "- **Inference**: Layers are kept as they are during inference.\n",
        "- **Comparison**: Similar to Dropout but operates on a block of layers instead of individual nodes.\n",
        "- **Usage in CCT**: Applied just before the residual blocks of a Transformers encoder."
      ],
      "metadata": {
        "id": "3iHKAAp7afqB"
      }
    },
    {
      "cell_type": "code",
      "source": [
        "class StochasticDepth(layers.Layer):\n",
        "  def __init__(self, drop_prop, **kwargs):\n",
        "    super().__init__(**kwargs)\n",
        "    self.drop_prob = drop_prop  # Probability of dropping layers\n",
        "    self.seed_generator = keras.random.SeedGenerator(42)\n",
        "\n",
        "  def call(self, x, training=None):\n",
        "    if training:\n",
        "      keep_prob = 1 - self.drop_prob  # Probability of keeping layers\n",
        "      shape = (keras.ops.shape(x)[0],) + (1,) * (len(x.shape) - 1) # Shape for random tensor\n",
        "      random_tensor = keep_prob + keras.random.uniform(\n",
        "          shape, 0, 1, seed=self.seed_generator   # Generate random tensor\n",
        "      )\n",
        "      random_tensor = keras.ops.floor(random_tensor) # Floor the random tensor to get binary mask\n",
        "      return (x / keep_prob) * random_tensor  # Scale the input and apply mask\n",
        "    return x"
      ],
      "metadata": {
        "id": "963BvEgJaaoY"
      },
      "execution_count": 8,
      "outputs": []
    },
    {
      "cell_type": "markdown",
      "source": [
        "##  MLP for the Transformers encoder\n",
        "\n",
        "**MLP Architecture:**\n",
        "\n",
        "![](https://aiml.com/wp-content/uploads/2022/06/Multilayer-perceptron-MLP.png)"
      ],
      "metadata": {
        "id": "425QA7xZdc3C"
      }
    },
    {
      "cell_type": "code",
      "source": [
        "def mlp(x, hidden_units, dropout_rate):\n",
        "    for units in hidden_units:\n",
        "        x = layers.Dense(units, activation=keras.ops.gelu)(x)\n",
        "        x = layers.Dropout(dropout_rate)(x)\n",
        "    return x"
      ],
      "metadata": {
        "id": "HPdZ828RdZq5"
      },
      "execution_count": 9,
      "outputs": []
    },
    {
      "cell_type": "markdown",
      "source": [
        "## Data Augmentation"
      ],
      "metadata": {
        "id": "B9XNWqkWfZSW"
      }
    },
    {
      "cell_type": "code",
      "source": [
        "data_augmentation = keras.Sequential(\n",
        "  [\n",
        "      layers.Rescaling(scale=1.0 / 255),\n",
        "      layers.RandomCrop(image_size, image_size),\n",
        "      layers.RandomFlip('horizontal'),\n",
        "  ],\n",
        "  name='data_augmentation',\n",
        ")"
      ],
      "metadata": {
        "id": "L1FnfwPufWP9"
      },
      "execution_count": 10,
      "outputs": []
    },
    {
      "cell_type": "markdown",
      "source": [
        "## The final CCT model"
      ],
      "metadata": {
        "id": "o4rz-JM7gBcu"
      }
    },
    {
      "cell_type": "code",
      "source": [
        "def create_cct_model(\n",
        "    image_size=image_size,\n",
        "    input_shape=input_shape,\n",
        "    num_heads=num_heads,\n",
        "    projection_dim=projection_dim,\n",
        "    transformer_units=transformer_units,\n",
        "):\n",
        "    inputs = layers.Input(input_shape)\n",
        "\n",
        "    # Augment Data\n",
        "    augmented = data_augmentation(inputs)\n",
        "\n",
        "    # Encode Patches\n",
        "    cct_tokenizer = CCTTokenizer()\n",
        "    encoded_patches = cct_tokenizer(augmented)\n",
        "\n",
        "    # Apply Positional Embeddings\n",
        "    if positional_emb:\n",
        "      sequence_length = encoded_patches.shape[-1]\n",
        "      encoded_patches += PositionEmbedding(sequence_length=sequence_length)(\n",
        "          encoded_patches\n",
        "      )\n",
        "\n",
        "    # Calculate Stochastic Depth Probabilities\n",
        "    dpr = [x for x in np.linspace(0, stocastic_depth_rate, transformer_layers)]\n",
        "\n",
        "    # Create multiple kayers of the Transformer block\n",
        "    for i in range(transformer_layers):\n",
        "      # Layer normalization 1\n",
        "      x1 = layers.LayerNormalization(epsilon=1e-5)(encoded_patches)\n",
        "\n",
        "      # Create a multihead attention layer\n",
        "      attention_output = layers.MultiHeadAttention(\n",
        "            num_heads=num_heads, key_dim=projection_dim, dropout=0.1\n",
        "        )(x1, x1)\n",
        "\n",
        "      # Skip connection 1\n",
        "      attention_output = StochasticDepth(dpr[i])(attention_output)\n",
        "      x2 = layers.Add()([attention_output, encoded_patches])\n",
        "\n",
        "      # Layer normalization 2\n",
        "      x3 = layers.LayerNormalization(epsilon=1e-5)(x2)\n",
        "\n",
        "      # MLP\n",
        "      x3 = mlp(x3, hidden_units=transformer_units, dropout_rate=0.1)\n",
        "\n",
        "      # Skip connection 2\n",
        "      x3 = StochasticDepth(dpr[i])(x3)\n",
        "      encoded_patches = layers.Add()([x3, x2])\n",
        "\n",
        "    # Apply Sequence pooling\n",
        "    representation = layers.LayerNormalization(epsilon=1e-5)(encoded_patches)\n",
        "    weighted_representation = SequencePooling()(representation)\n",
        "\n",
        "    # Classify outputs\n",
        "    logits = layers.Dense(num_classes)(weighted_representation)\n",
        "\n",
        "    # Create the Keras Model\n",
        "    model = keras.Model(inputs=inputs, outputs=logits)\n",
        "    return model"
      ],
      "metadata": {
        "id": "t2rbP2-mf-n9"
      },
      "execution_count": 11,
      "outputs": []
    },
    {
      "cell_type": "markdown",
      "source": [
        "## Model training and evaluation"
      ],
      "metadata": {
        "id": "bBOrUHFhrFtj"
      }
    },
    {
      "cell_type": "code",
      "source": [
        "def run_experiment(model):\n",
        "  # Initialize the AdamW optimizer with a specified learning rate and weight decay\n",
        "  optimizer = keras.optimizers.AdamW(learning_rate=0.001, weight_decay=0.0001)\n",
        "\n",
        "  # Compile the model with the optimizer, loss function, and evaluation metrics\n",
        "  model.compile(\n",
        "      optimizer=optimizer,\n",
        "      loss=keras.losses.CategoricalCrossentropy(\n",
        "          from_logits=True, label_smoothing=0.1\n",
        "      ),\n",
        "      metrics=[\n",
        "          keras.metrics.CategoricalAccuracy(name='accuracy'),\n",
        "          keras.metrics.TopKCategoricalAccuracy(5, name='top-5-accuracy'),\n",
        "      ],\n",
        "  )\n",
        "\n",
        "  # Define the file path for saving the best model weights\n",
        "  checkpoint_filepath = '/tmp/checkpoint.weights.h5'\n",
        "\n",
        "  # Create a callback to save the model's weights\n",
        "  checkpoint_callback = keras.callbacks.ModelCheckpoint(\n",
        "      checkpoint_filepath,\n",
        "      monitor='val_accuracy',\n",
        "      save_best_only=True,\n",
        "      save_weights_only=True,\n",
        "  )\n",
        "\n",
        "  # Train the model with the training data and validation split\n",
        "  history = model.fit(\n",
        "      x=x_train,\n",
        "      y=y_train,\n",
        "      batch_size=batch_size,\n",
        "      epochs=num_epochs,\n",
        "      validation_split=0.1,\n",
        "      callbacks=[checkpoint_callback],\n",
        "  )\n",
        "\n",
        "  # Load the best weights after training\n",
        "  model.load_weights(checkpoint_filepath)\n",
        "\n",
        "  # Evaluate the model on the test data\n",
        "  _, accuracy, top_5_accuracy = model.evaluate(x_test, y_test)\n",
        "\n",
        "  # Print the test accuracy and top-5 accuracy\n",
        "  print(f'Test Accuracy: {round(accuracy * 100, 2)}%')\n",
        "  print(f'Test top 5 accuracy: {round(top_5_accuracy * 100, 2)}%')\n",
        "\n",
        "  return history\n",
        "\n",
        "# Create the CCT model and run the experiment\n",
        "cct_model = create_cct_model()\n",
        "history = run_experiment(cct_model)"
      ],
      "metadata": {
        "colab": {
          "base_uri": "https://localhost:8080/"
        },
        "id": "lq0n8UzarEGZ",
        "outputId": "9d1006b4-1dde-4a31-e9b6-39c3326bba61"
      },
      "execution_count": 12,
      "outputs": [
        {
          "output_type": "stream",
          "name": "stdout",
          "text": [
            "Epoch 1/30\n",
            "\u001b[1m352/352\u001b[0m \u001b[32m━━━━━━━━━━━━━━━━━━━━\u001b[0m\u001b[37m\u001b[0m \u001b[1m20s\u001b[0m 22ms/step - accuracy: 0.2641 - loss: 2.1003 - top-5-accuracy: 0.7470 - val_accuracy: 0.5000 - val_loss: 1.5743 - val_top-5-accuracy: 0.9402\n",
            "Epoch 2/30\n",
            "\u001b[1m352/352\u001b[0m \u001b[32m━━━━━━━━━━━━━━━━━━━━\u001b[0m\u001b[37m\u001b[0m \u001b[1m6s\u001b[0m 18ms/step - accuracy: 0.5123 - loss: 1.5585 - top-5-accuracy: 0.9318 - val_accuracy: 0.6054 - val_loss: 1.3682 - val_top-5-accuracy: 0.9624\n",
            "Epoch 3/30\n",
            "\u001b[1m352/352\u001b[0m \u001b[32m━━━━━━━━━━━━━━━━━━━━\u001b[0m\u001b[37m\u001b[0m \u001b[1m6s\u001b[0m 17ms/step - accuracy: 0.5956 - loss: 1.3816 - top-5-accuracy: 0.9594 - val_accuracy: 0.6240 - val_loss: 1.3482 - val_top-5-accuracy: 0.9576\n",
            "Epoch 4/30\n",
            "\u001b[1m352/352\u001b[0m \u001b[32m━━━━━━━━━━━━━━━━━━━━\u001b[0m\u001b[37m\u001b[0m \u001b[1m6s\u001b[0m 17ms/step - accuracy: 0.6386 - loss: 1.2962 - top-5-accuracy: 0.9642 - val_accuracy: 0.6656 - val_loss: 1.2388 - val_top-5-accuracy: 0.9714\n",
            "Epoch 5/30\n",
            "\u001b[1m352/352\u001b[0m \u001b[32m━━━━━━━━━━━━━━━━━━━━\u001b[0m\u001b[37m\u001b[0m \u001b[1m6s\u001b[0m 17ms/step - accuracy: 0.6740 - loss: 1.2258 - top-5-accuracy: 0.9719 - val_accuracy: 0.7002 - val_loss: 1.1696 - val_top-5-accuracy: 0.9792\n",
            "Epoch 6/30\n",
            "\u001b[1m352/352\u001b[0m \u001b[32m━━━━━━━━━━━━━━━━━━━━\u001b[0m\u001b[37m\u001b[0m \u001b[1m6s\u001b[0m 17ms/step - accuracy: 0.6937 - loss: 1.1810 - top-5-accuracy: 0.9768 - val_accuracy: 0.7146 - val_loss: 1.1396 - val_top-5-accuracy: 0.9778\n",
            "Epoch 7/30\n",
            "\u001b[1m352/352\u001b[0m \u001b[32m━━━━━━━━━━━━━━━━━━━━\u001b[0m\u001b[37m\u001b[0m \u001b[1m6s\u001b[0m 17ms/step - accuracy: 0.7082 - loss: 1.1499 - top-5-accuracy: 0.9761 - val_accuracy: 0.7158 - val_loss: 1.1397 - val_top-5-accuracy: 0.9788\n",
            "Epoch 8/30\n",
            "\u001b[1m352/352\u001b[0m \u001b[32m━━━━━━━━━━━━━━━━━━━━\u001b[0m\u001b[37m\u001b[0m \u001b[1m6s\u001b[0m 17ms/step - accuracy: 0.7240 - loss: 1.1163 - top-5-accuracy: 0.9817 - val_accuracy: 0.7368 - val_loss: 1.1075 - val_top-5-accuracy: 0.9784\n",
            "Epoch 9/30\n",
            "\u001b[1m352/352\u001b[0m \u001b[32m━━━━━━━━━━━━━━━━━━━━\u001b[0m\u001b[37m\u001b[0m \u001b[1m6s\u001b[0m 17ms/step - accuracy: 0.7446 - loss: 1.0754 - top-5-accuracy: 0.9842 - val_accuracy: 0.7350 - val_loss: 1.0963 - val_top-5-accuracy: 0.9800\n",
            "Epoch 10/30\n",
            "\u001b[1m352/352\u001b[0m \u001b[32m━━━━━━━━━━━━━━━━━━━━\u001b[0m\u001b[37m\u001b[0m \u001b[1m6s\u001b[0m 17ms/step - accuracy: 0.7541 - loss: 1.0537 - top-5-accuracy: 0.9837 - val_accuracy: 0.7538 - val_loss: 1.0672 - val_top-5-accuracy: 0.9806\n",
            "Epoch 11/30\n",
            "\u001b[1m352/352\u001b[0m \u001b[32m━━━━━━━━━━━━━━━━━━━━\u001b[0m\u001b[37m\u001b[0m \u001b[1m6s\u001b[0m 17ms/step - accuracy: 0.7664 - loss: 1.0308 - top-5-accuracy: 0.9853 - val_accuracy: 0.7678 - val_loss: 1.0412 - val_top-5-accuracy: 0.9858\n",
            "Epoch 12/30\n",
            "\u001b[1m352/352\u001b[0m \u001b[32m━━━━━━━━━━━━━━━━━━━━\u001b[0m\u001b[37m\u001b[0m \u001b[1m6s\u001b[0m 17ms/step - accuracy: 0.7721 - loss: 1.0137 - top-5-accuracy: 0.9873 - val_accuracy: 0.7550 - val_loss: 1.0624 - val_top-5-accuracy: 0.9848\n",
            "Epoch 13/30\n",
            "\u001b[1m352/352\u001b[0m \u001b[32m━━━━━━━━━━━━━━━━━━━━\u001b[0m\u001b[37m\u001b[0m \u001b[1m6s\u001b[0m 17ms/step - accuracy: 0.7762 - loss: 1.0037 - top-5-accuracy: 0.9882 - val_accuracy: 0.7520 - val_loss: 1.0862 - val_top-5-accuracy: 0.9814\n",
            "Epoch 14/30\n",
            "\u001b[1m352/352\u001b[0m \u001b[32m━━━━━━━━━━━━━━━━━━━━\u001b[0m\u001b[37m\u001b[0m \u001b[1m6s\u001b[0m 17ms/step - accuracy: 0.7891 - loss: 0.9779 - top-5-accuracy: 0.9891 - val_accuracy: 0.7650 - val_loss: 1.0489 - val_top-5-accuracy: 0.9860\n",
            "Epoch 15/30\n",
            "\u001b[1m352/352\u001b[0m \u001b[32m━━━━━━━━━━━━━━━━━━━━\u001b[0m\u001b[37m\u001b[0m \u001b[1m6s\u001b[0m 17ms/step - accuracy: 0.7948 - loss: 0.9648 - top-5-accuracy: 0.9889 - val_accuracy: 0.7712 - val_loss: 1.0287 - val_top-5-accuracy: 0.9870\n",
            "Epoch 16/30\n",
            "\u001b[1m352/352\u001b[0m \u001b[32m━━━━━━━━━━━━━━━━━━━━\u001b[0m\u001b[37m\u001b[0m \u001b[1m6s\u001b[0m 17ms/step - accuracy: 0.8019 - loss: 0.9530 - top-5-accuracy: 0.9899 - val_accuracy: 0.7798 - val_loss: 1.0138 - val_top-5-accuracy: 0.9850\n",
            "Epoch 17/30\n",
            "\u001b[1m352/352\u001b[0m \u001b[32m━━━━━━━━━━━━━━━━━━━━\u001b[0m\u001b[37m\u001b[0m \u001b[1m6s\u001b[0m 18ms/step - accuracy: 0.8110 - loss: 0.9318 - top-5-accuracy: 0.9896 - val_accuracy: 0.7634 - val_loss: 1.0373 - val_top-5-accuracy: 0.9850\n",
            "Epoch 18/30\n",
            "\u001b[1m352/352\u001b[0m \u001b[32m━━━━━━━━━━━━━━━━━━━━\u001b[0m\u001b[37m\u001b[0m \u001b[1m7s\u001b[0m 19ms/step - accuracy: 0.8138 - loss: 0.9288 - top-5-accuracy: 0.9913 - val_accuracy: 0.7862 - val_loss: 1.0176 - val_top-5-accuracy: 0.9820\n",
            "Epoch 19/30\n",
            "\u001b[1m352/352\u001b[0m \u001b[32m━━━━━━━━━━━━━━━━━━━━\u001b[0m\u001b[37m\u001b[0m \u001b[1m6s\u001b[0m 17ms/step - accuracy: 0.8198 - loss: 0.9085 - top-5-accuracy: 0.9919 - val_accuracy: 0.7808 - val_loss: 1.0173 - val_top-5-accuracy: 0.9858\n",
            "Epoch 20/30\n",
            "\u001b[1m352/352\u001b[0m \u001b[32m━━━━━━━━━━━━━━━━━━━━\u001b[0m\u001b[37m\u001b[0m \u001b[1m6s\u001b[0m 17ms/step - accuracy: 0.8270 - loss: 0.9011 - top-5-accuracy: 0.9915 - val_accuracy: 0.7920 - val_loss: 0.9945 - val_top-5-accuracy: 0.9862\n",
            "Epoch 21/30\n",
            "\u001b[1m352/352\u001b[0m \u001b[32m━━━━━━━━━━━━━━━━━━━━\u001b[0m\u001b[37m\u001b[0m \u001b[1m6s\u001b[0m 17ms/step - accuracy: 0.8269 - loss: 0.8993 - top-5-accuracy: 0.9925 - val_accuracy: 0.7988 - val_loss: 0.9822 - val_top-5-accuracy: 0.9874\n",
            "Epoch 22/30\n",
            "\u001b[1m352/352\u001b[0m \u001b[32m━━━━━━━━━━━━━━━━━━━━\u001b[0m\u001b[37m\u001b[0m \u001b[1m6s\u001b[0m 17ms/step - accuracy: 0.8384 - loss: 0.8747 - top-5-accuracy: 0.9936 - val_accuracy: 0.7978 - val_loss: 0.9774 - val_top-5-accuracy: 0.9850\n",
            "Epoch 23/30\n",
            "\u001b[1m352/352\u001b[0m \u001b[32m━━━━━━━━━━━━━━━━━━━━\u001b[0m\u001b[37m\u001b[0m \u001b[1m6s\u001b[0m 17ms/step - accuracy: 0.8418 - loss: 0.8653 - top-5-accuracy: 0.9933 - val_accuracy: 0.7982 - val_loss: 0.9814 - val_top-5-accuracy: 0.9858\n",
            "Epoch 24/30\n",
            "\u001b[1m352/352\u001b[0m \u001b[32m━━━━━━━━━━━━━━━━━━━━\u001b[0m\u001b[37m\u001b[0m \u001b[1m6s\u001b[0m 17ms/step - accuracy: 0.8419 - loss: 0.8661 - top-5-accuracy: 0.9927 - val_accuracy: 0.7984 - val_loss: 0.9923 - val_top-5-accuracy: 0.9830\n",
            "Epoch 25/30\n",
            "\u001b[1m352/352\u001b[0m \u001b[32m━━━━━━━━━━━━━━━━━━━━\u001b[0m\u001b[37m\u001b[0m \u001b[1m6s\u001b[0m 17ms/step - accuracy: 0.8496 - loss: 0.8523 - top-5-accuracy: 0.9940 - val_accuracy: 0.8060 - val_loss: 0.9653 - val_top-5-accuracy: 0.9886\n",
            "Epoch 26/30\n",
            "\u001b[1m352/352\u001b[0m \u001b[32m━━━━━━━━━━━━━━━━━━━━\u001b[0m\u001b[37m\u001b[0m \u001b[1m6s\u001b[0m 17ms/step - accuracy: 0.8515 - loss: 0.8454 - top-5-accuracy: 0.9940 - val_accuracy: 0.7974 - val_loss: 0.9768 - val_top-5-accuracy: 0.9888\n",
            "Epoch 27/30\n",
            "\u001b[1m352/352\u001b[0m \u001b[32m━━━━━━━━━━━━━━━━━━━━\u001b[0m\u001b[37m\u001b[0m \u001b[1m6s\u001b[0m 17ms/step - accuracy: 0.8561 - loss: 0.8339 - top-5-accuracy: 0.9950 - val_accuracy: 0.8074 - val_loss: 0.9584 - val_top-5-accuracy: 0.9856\n",
            "Epoch 28/30\n",
            "\u001b[1m352/352\u001b[0m \u001b[32m━━━━━━━━━━━━━━━━━━━━\u001b[0m\u001b[37m\u001b[0m \u001b[1m6s\u001b[0m 17ms/step - accuracy: 0.8610 - loss: 0.8329 - top-5-accuracy: 0.9948 - val_accuracy: 0.7812 - val_loss: 1.0381 - val_top-5-accuracy: 0.9822\n",
            "Epoch 29/30\n",
            "\u001b[1m352/352\u001b[0m \u001b[32m━━━━━━━━━━━━━━━━━━━━\u001b[0m\u001b[37m\u001b[0m \u001b[1m6s\u001b[0m 17ms/step - accuracy: 0.8585 - loss: 0.8273 - top-5-accuracy: 0.9942 - val_accuracy: 0.8024 - val_loss: 0.9702 - val_top-5-accuracy: 0.9862\n",
            "Epoch 30/30\n",
            "\u001b[1m352/352\u001b[0m \u001b[32m━━━━━━━━━━━━━━━━━━━━\u001b[0m\u001b[37m\u001b[0m \u001b[1m6s\u001b[0m 17ms/step - accuracy: 0.8671 - loss: 0.8102 - top-5-accuracy: 0.9953 - val_accuracy: 0.8100 - val_loss: 0.9598 - val_top-5-accuracy: 0.9876\n",
            "\u001b[1m313/313\u001b[0m \u001b[32m━━━━━━━━━━━━━━━━━━━━\u001b[0m\u001b[37m\u001b[0m \u001b[1m1s\u001b[0m 3ms/step - accuracy: 0.7951 - loss: 0.9835 - top-5-accuracy: 0.9857\n",
            "Test Accuracy: 79.63%\n",
            "Test top 5 accuracy: 98.66%\n"
          ]
        }
      ]
    },
    {
      "cell_type": "markdown",
      "source": [
        "## Visualize the training progress of the model"
      ],
      "metadata": {
        "id": "iwsf8owlum6u"
      }
    },
    {
      "cell_type": "code",
      "source": [
        "plt.plot(history.history['loss'], label='train_loss')\n",
        "plt.plot(history.history['val_loss'], label='val_loss')\n",
        "plt.xlabel('Epochs')\n",
        "plt.ylabel('Loss')\n",
        "plt.title('Train and Validation Losses Over Epochs', fontsize=14)\n",
        "plt.legend()\n",
        "plt.grid()\n",
        "plt.show()"
      ],
      "metadata": {
        "colab": {
          "base_uri": "https://localhost:8080/",
          "height": 473
        },
        "id": "cFwLdqToKs4D",
        "outputId": "e4a97491-3940-438e-a27d-72569a034939"
      },
      "execution_count": 13,
      "outputs": [
        {
          "output_type": "display_data",
          "data": {
            "text/plain": [
              "<Figure size 640x480 with 1 Axes>"
            ],
            "image/png": "[encoded data removed]"
          },
          "metadata": {}
        }
      ]
    },
    {
      "cell_type": "markdown",
      "source": [
        "## **CCT Model Performance**\n",
        "  - **Parameters**: 0.4 million.\n",
        "  - **Accuracy**: ~79% top-1 accuracy in 30 epochs.\n",
        "  - **Overfitting**: No signs observed; potential for further training with more regularization.\n",
        "  - **Improvement**: Could be achieved with techniques like cosine decay learning rate, AutoAugment, MixUp, or Cutmix.\n",
        "  - **Optimal Performance**: Authors report 95.1% top-1 accuracy on CIFAR-10 with these modifications.\n",
        "\n",
        "### **Comparison with ViT**:\n",
        "  - **Parameters**: 4.7 million.\n",
        "  - **Training**: 100 epochs.\n",
        "  - **Accuracy**: 78.22% top-1 accuracy on CIFAR-10."
      ],
      "metadata": {
        "id": "MRx-bQtM5d7R"
      }
    }
  ]
}