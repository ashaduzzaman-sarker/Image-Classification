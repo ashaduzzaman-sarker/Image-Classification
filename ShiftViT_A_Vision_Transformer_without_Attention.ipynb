{
  "nbformat": 4,
  "nbformat_minor": 0,
  "metadata": {
    "colab": {
      "provenance": [],
      "gpuType": "T4",
      "authorship_tag": "ABX9TyMKlxriHlnZTEZkOkZFMZ3+",
      "include_colab_link": true
    },
    "kernelspec": {
      "name": "python3",
      "display_name": "Python 3"
    },
    "language_info": {
      "name": "python"
    },
    "accelerator": "GPU"
  },
  "cells": [
    {
      "cell_type": "markdown",
      "metadata": {
        "id": "view-in-github",
        "colab_type": "text"
      },
      "source": [
        "<a href=\"https://colab.research.google.com/github/ashaduzzaman-sarker/Image-Classification/blob/main/ShiftViT_A_Vision_Transformer_without_Attention.ipynb\" target=\"_parent\"><img src=\"https://colab.research.google.com/assets/colab-badge.svg\" alt=\"Open In Colab\"/></a>"
      ]
    },
    {
      "cell_type": "markdown",
      "source": [
        "## ShiftViT_A Vision Transformer without Attention\n",
        "\n",
        "**Author:** [Ashaduzzaman Sarker](https://github.com/ashaduzzaman-sarker/)\n",
        "<br>\n",
        "**Date created:** 30/06/2024\n",
        "**Reference:**\n",
        "\n",
        " - ShiftViT : [When Shift Operation Meets Vision Transformer: An Extremely Simple Alternative to Attention Mechanism](\n",
        "https://doi.org/10.48550/arXiv.2201.10801)\n",
        "\n",
        " - [Keras](https://keras.io/examples/vision/shiftvit/)"
      ],
      "metadata": {
        "id": "oecMUBqezyo-"
      }
    },
    {
      "cell_type": "markdown",
      "source": [
        "## **Introduction**\n",
        "\n",
        "  - Vision Transformers (ViTs) have sparked a wave of research at the intersection of Transformers and Computer Vision (CV).\n",
        "  - ViTs can simultaneously model long- and short-range dependencies, thanks to the Multi-Head Self-Attention mechanism in the Transformer block.\n",
        "  - Many researchers believe that the success of ViTs is purely due to the attention layer, and they seldom consider other parts of the ViT model.\n",
        "  - In the academic paper \"When Shift Operation Meets Vision Transformer: An Extremely Simple Alternative to Attention Mechanism,\" the authors propose demystifying the success of ViTs by introducing a no-parameter operation in place of the attention operation.\n",
        "  - They replace the attention operation with a shifting operation.\n",
        "  - This example minimally implements the paper, closely aligning with the author's official implementation.\n",
        "\n",
        "Explanation:\n",
        "\n",
        "- **Vision Transformers (ViTs) and Their Impact**:\n",
        "  - The introduction of ViTs has created significant interest and research in the overlap between Transformers, traditionally used in Natural Language Processing (NLP), and Computer Vision (CV).\n",
        "  \n",
        "- **Capabilities of ViTs**:\n",
        "  - ViTs are notable for their ability to model dependencies at varying scales within an image, from global (long-range) to local (short-range), using the Multi-Head Self-Attention mechanism.\n",
        "  \n",
        "- **Common Beliefs**:\n",
        "  - The success of ViTs is often attributed solely to the attention mechanism. Other components of the ViT architecture are frequently overlooked.\n",
        "  \n",
        "- **New Perspective**:\n",
        "  - The paper \"When Shift Operation Meets Vision Transformer\" challenges the conventional view by suggesting that the attention mechanism might not be the only reason for ViTs' success.\n",
        "  \n",
        "- **Proposed Alternative**:\n",
        "  - The authors propose an alternative to the attention mechanism—a shifting operation that does not require parameters—potentially simplifying the model.\n",
        "  \n",
        "- **Implementation**:\n",
        "  - The example provided aims to implement the concepts from the paper in a way that is faithful to the authors' original implementation, allowing for a practical exploration of this new approach.\n",
        "\n",
        "  ![](https://pbs.twimg.com/media/FKE40NAWYAE_lMO.jpg)"
      ],
      "metadata": {
        "id": "pmptDYWO1sbb"
      }
    },
    {
      "cell_type": "markdown",
      "source": [
        "## Setup and imports"
      ],
      "metadata": {
        "id": "IWNDSfwv2EPa"
      }
    },
    {
      "cell_type": "code",
      "source": [
        "!pip install -qq -U tensorflow-addons"
      ],
      "metadata": {
        "colab": {
          "base_uri": "https://localhost:8080/"
        },
        "id": "Jq7roxj_3C8P",
        "outputId": "0ca53974-e117-4856-8a57-9587fde6a42e"
      },
      "execution_count": 1,
      "outputs": [
        {
          "output_type": "stream",
          "name": "stdout",
          "text": [
            "\u001b[?25l     \u001b[90m━━━━━━━━━━━━━━━━━━━━━━━━━━━━━━━━━━━━━━━━\u001b[0m \u001b[32m0.0/611.8 kB\u001b[0m \u001b[31m?\u001b[0m eta \u001b[36m-:--:--\u001b[0m\r\u001b[2K     \u001b[91m╸\u001b[0m\u001b[90m━━━━━━━━━━━━━━━━━━━━━━━━━━━━━━━━━━━━━━━\u001b[0m \u001b[32m10.2/611.8 kB\u001b[0m \u001b[31m?\u001b[0m eta \u001b[36m-:--:--\u001b[0m\r\u001b[2K     \u001b[91m━━━━\u001b[0m\u001b[90m╺\u001b[0m\u001b[90m━━━━━━━━━━━━━━━━━━━━━━━━━━━━━━━━━━━\u001b[0m \u001b[32m61.4/611.8 kB\u001b[0m \u001b[31m805.4 kB/s\u001b[0m eta \u001b[36m0:00:01\u001b[0m\r\u001b[2K     \u001b[91m━━━━━━━━━━━━━━━━━━━━━━━━━━━━━━━━━━━━━━━\u001b[0m\u001b[91m╸\u001b[0m \u001b[32m604.2/611.8 kB\u001b[0m \u001b[31m5.4 MB/s\u001b[0m eta \u001b[36m0:00:01\u001b[0m\r\u001b[2K     \u001b[90m━━━━━━━━━━━━━━━━━━━━━━━━━━━━━━━━━━━━━━━━\u001b[0m \u001b[32m611.8/611.8 kB\u001b[0m \u001b[31m4.9 MB/s\u001b[0m eta \u001b[36m0:00:00\u001b[0m\n",
            "\u001b[?25h"
          ]
        }
      ]
    },
    {
      "cell_type": "code",
      "source": [
        "# !pip install --upgrade keras"
      ],
      "metadata": {
        "id": "vUJ_1vc9TI_d"
      },
      "execution_count": null,
      "outputs": []
    },
    {
      "cell_type": "code",
      "execution_count": 2,
      "metadata": {
        "colab": {
          "base_uri": "https://localhost:8080/"
        },
        "id": "Mz8yPoYOyw3u",
        "outputId": "58a9fc3e-9081-4a4b-b313-24062dfc0c7a"
      },
      "outputs": [
        {
          "output_type": "stream",
          "name": "stderr",
          "text": [
            "/usr/local/lib/python3.10/dist-packages/tensorflow_addons/utils/tfa_eol_msg.py:23: UserWarning: \n",
            "\n",
            "TensorFlow Addons (TFA) has ended development and introduction of new features.\n",
            "TFA has entered a minimal maintenance and release mode until a planned end of life in May 2024.\n",
            "Please modify downstream libraries to take dependencies from other repositories in our TensorFlow community (e.g. Keras, Keras-CV, and Keras-NLP). \n",
            "\n",
            "For more information see: https://github.com/tensorflow/addons/issues/2807 \n",
            "\n",
            "  warnings.warn(\n"
          ]
        }
      ],
      "source": [
        "import numpy as np\n",
        "import matplotlib.pyplot as plt\n",
        "\n",
        "import tensorflow as tf\n",
        "from tensorflow import keras\n",
        "from tensorflow.keras import layers\n",
        "import tensorflow_addons as tfa\n",
        "\n",
        "import pathlib\n",
        "import glob"
      ]
    },
    {
      "cell_type": "code",
      "source": [
        "# Setting seed for reproducibility\n",
        "SEED = 42\n",
        "keras.utils.set_random_seed(SEED)"
      ],
      "metadata": {
        "id": "-jUXywyD3Rip"
      },
      "execution_count": 3,
      "outputs": []
    },
    {
      "cell_type": "markdown",
      "source": [
        "## Hyperparameters"
      ],
      "metadata": {
        "id": "Kj7WI6j63fTL"
      }
    },
    {
      "cell_type": "code",
      "source": [
        "class Config(object):\n",
        "  # DATA\n",
        "  batch_size = 256\n",
        "  buffer_size = batch_size * 2\n",
        "  input_shape = (32, 32, 3)\n",
        "  num_classes = 10\n",
        "\n",
        "  # AUGMENTATION\n",
        "  image_size = 48\n",
        "\n",
        "  # ARCHIECTURE\n",
        "  patch_size = 4\n",
        "  projection_dim = 96\n",
        "  num_shift_blocks_per_stages = [2, 4, 8, 2]\n",
        "  epsilon = 1e-5\n",
        "  stochastic_depth_rate = 0.2\n",
        "  mlp_dropout_rate = 0.2\n",
        "  num_div = 12\n",
        "  shift_pixel = 1\n",
        "  mlp_expand_ratio = 2\n",
        "\n",
        "  # OPTIMIZER\n",
        "  lr_start = 1e-5\n",
        "  lr_max = 1e-3\n",
        "  weight_decay = 1e-4\n",
        "\n",
        "  # TRAINING\n",
        "  epochs = 5 #100\n",
        "\n",
        "  # INFERENCE\n",
        "  label_map = {\n",
        "      0: 'airplane',\n",
        "      1: 'automobile',\n",
        "      2: 'bird',\n",
        "      3: 'cat',\n",
        "      4: 'deer',\n",
        "      5: 'dog',\n",
        "      6: 'frog',\n",
        "      7: 'horse',\n",
        "      8: 'ship',\n",
        "      9: 'truck',\n",
        "  }\n",
        "  tf_ds_batch_size = 20\n",
        "\n",
        "config = Config()"
      ],
      "metadata": {
        "id": "0uTKAWNK3j3v"
      },
      "execution_count": 4,
      "outputs": []
    },
    {
      "cell_type": "markdown",
      "source": [
        "## Load the CIFAR-10 dataset"
      ],
      "metadata": {
        "id": "IjBUWArC5EYP"
      }
    },
    {
      "cell_type": "code",
      "source": [
        "(x_train, y_train), (x_test, y_test) = keras.datasets.cifar10.load_data()"
      ],
      "metadata": {
        "colab": {
          "base_uri": "https://localhost:8080/"
        },
        "id": "Pvw1iHbR5B0R",
        "outputId": "49f1ca38-5759-40e4-937c-270b07967332"
      },
      "execution_count": 5,
      "outputs": [
        {
          "output_type": "stream",
          "name": "stdout",
          "text": [
            "Downloading data from https://www.cs.toronto.edu/~kriz/cifar-10-python.tar.gz\n",
            "170498071/170498071 [==============================] - 10s 0us/step\n"
          ]
        }
      ]
    },
    {
      "cell_type": "code",
      "source": [
        "(x_train, y_train), (x_val, y_val) = (\n",
        "    (x_train[:40000], y_train[:40000]),\n",
        "    (x_train[40000:], y_train[40000:]),\n",
        ")\n",
        "\n",
        "print(f'Training samples: {len(x_train)}')\n",
        "print(f'Validation samples: {len(x_val)}')\n",
        "print(f'Testing samples: {len(x_test)}')"
      ],
      "metadata": {
        "colab": {
          "base_uri": "https://localhost:8080/"
        },
        "id": "IMcqgX485Q9q",
        "outputId": "4ab8ca94-93d2-44f0-b137-0ff103477404"
      },
      "execution_count": 6,
      "outputs": [
        {
          "output_type": "stream",
          "name": "stdout",
          "text": [
            "Training samples: 40000\n",
            "Validation samples: 10000\n",
            "Testing samples: 10000\n"
          ]
        }
      ]
    },
    {
      "cell_type": "code",
      "source": [
        "AUTO = tf.data.AUTOTUNE\n",
        "\n",
        "train_ds = tf.data.Dataset.from_tensor_slices((x_train, y_train))\n",
        "train_ds = train_ds.shuffle(config.buffer_size).batch(config.batch_size).prefetch(AUTO)\n",
        "\n",
        "val_ds = tf.data.Dataset.from_tensor_slices((x_val, y_val))\n",
        "val_ds = val_ds.batch(config.batch_size).prefetch(AUTO)\n",
        "\n",
        "test_ds = tf.data.Dataset.from_tensor_slices((x_test, y_test))\n",
        "test_ds = test_ds.batch(config.batch_size).prefetch(AUTO)"
      ],
      "metadata": {
        "id": "UoRyjihc57st"
      },
      "execution_count": 7,
      "outputs": []
    },
    {
      "cell_type": "markdown",
      "source": [
        "## Data Augmentation"
      ],
      "metadata": {
        "id": "uy52Gjbf67eX"
      }
    },
    {
      "cell_type": "code",
      "source": [
        "def get_augmentation_model():\n",
        "  # Build the data augmentation model\n",
        "  data_augmentation = keras.Sequential(\n",
        "      [\n",
        "          layers.Resizing(config.input_shape[0] + 20, config.input_shape[0] + 20),\n",
        "          layers.RandomCrop(config.image_size, config.image_size),\n",
        "          layers.RandomFlip('horizontal'),\n",
        "          layers.Rescaling(1 / 255.0)\n",
        "      ]\n",
        "  )\n",
        "  return data_augmentation"
      ],
      "metadata": {
        "id": "kbvViJGQ640E"
      },
      "execution_count": 8,
      "outputs": []
    },
    {
      "cell_type": "markdown",
      "source": [
        "## **The ShiftViT architecture**\n",
        "  - The architecture, as shown in Fig. 1, is inspired by the Swin Transformer: Hierarchical Vision Transformer using Shifted Windows.\n",
        "  - The authors propose a modular architecture with 4 stages.\n",
        "  - Each stage operates on its own spatial size, creating a hierarchical architecture.\n",
        "\n",
        "- **Input Image Processing**\n",
        "  - An input image of size HxWx3 is split into non-overlapping patches of size 4x4.\n",
        "  - This is done via the patchify layer, which results in individual tokens of feature size 48 (4x4x3).\n",
        "\n",
        "- **Stage Composition**\n",
        "  - Each stage comprises two parts:\n",
        "    - **Embedding Generation**\n",
        "    - **Stacked Shift Blocks**\n",
        "\n",
        "- **Detailed Discussion**\n",
        "  - The stages and modules are discussed in detail in the sections that follow.\n",
        "\n",
        "Explanation:\n",
        "\n",
        "- **Architecture Inspiration**:\n",
        "  - The proposed architecture is inspired by the Swin Transformer, which uses a hierarchical approach with shifted windows to process images.\n",
        "  \n",
        "- **Modular and Hierarchical Design**:\n",
        "  - The design includes 4 distinct stages, each working on different spatial resolutions of the image. This hierarchical structure allows for capturing features at multiple scales.\n",
        "  \n",
        "- **Input Processing**:\n",
        "  - The input image, typically in RGB format (HxWx3), is divided into small patches of size 4x4 pixels. This process, termed \"patchification,\" converts the image into smaller, manageable tokens with a feature size of 48.\n",
        "  \n",
        "- **Components of Each Stage**:\n",
        "  - Each stage of the architecture is composed of two main parts:\n",
        "    - **Embedding Generation**: This part is responsible for creating a representation (embedding) of the image patches.\n",
        "    - **Stacked Shift Blocks**: These blocks perform the core operations, replacing the attention mechanism with shift operations, as proposed by the authors.\n",
        "\n",
        "![](https://i.imgur.com/CHU40HX.png)\n",
        "\n",
        "## **The ShiftViT Block**\n",
        "  - **ShiftViT Block Overview**\n",
        "    - Each stage in the ShiftViT architecture comprises a Shift Block, as shown in Fig. 2.\n",
        "    - Fig. 3 provides a detailed view of the Shift Block.\n",
        "\n",
        "  - **Components of the Shift Block**\n",
        "    - **Shift Operation**\n",
        "    - **Linear Normalization**\n",
        "    - **MLP Layer**\n",
        "\n",
        "Explanation:\n",
        "\n",
        "- **ShiftViT Block in Each Stage**:\n",
        "  - Each stage in the ShiftViT architecture is built around a core component called the Shift Block. This is illustrated in Fig. 2.\n",
        "\n",
        "- **Detailed View of the Shift Block**:\n",
        "  - Fig. 3 presents a detailed schematic of the Shift Block, breaking down its internal structure.\n",
        "\n",
        "- **Key Components**:\n",
        "  - **Shift Operation**: This operation replaces the traditional attention mechanism, introducing a parameter-free shift-based approach to process the data.\n",
        "  - **Linear Normalization**: This step normalizes the data linearly, ensuring that the values are scaled appropriately for the next layer.\n",
        "  - **MLP Layer**: The Multi-Layer Perceptron (MLP) layer provides the computational depth, applying learned transformations to the input data.\n",
        "\n",
        "![](https://i.imgur.com/0q13pLu.png)"
      ],
      "metadata": {
        "id": "8nPCq95Y7waB"
      }
    },
    {
      "cell_type": "markdown",
      "source": [
        "## The MLP block"
      ],
      "metadata": {
        "id": "pDTk0KmF9Tdr"
      }
    },
    {
      "cell_type": "code",
      "source": [
        "class MLP(layers.Layer):\n",
        "  '''\n",
        "  Get the MLP layer for each shift block\n",
        "\n",
        "  Args:\n",
        "      mlp_expand_ratio (int): The ratio with the first feature map is expanded\n",
        "      mlp_dropout_rate (float): The rate for dropout\n",
        "  '''\n",
        "  def __init__(self, mlp_expand_ratio, mlp_dropout_rate, **kwargs):\n",
        "    super().__init__(**kwargs)\n",
        "    self.mlp_expand_ratio = mlp_expand_ratio\n",
        "    self.mlp_dropout_rate = mlp_dropout_rate\n",
        "\n",
        "  def build(self, input_shape):\n",
        "    input_channels = input_shape[-1]\n",
        "    initial_filters = int(self.mlp_expand_ratio * input_channels)\n",
        "\n",
        "    self.mlp = keras.Sequential(\n",
        "        [\n",
        "            layers.Dense(\n",
        "                units=initial_filters,\n",
        "                activation='gelu',\n",
        "            ),\n",
        "            layers.Dropout(rate=self.mlp_dropout_rate),\n",
        "            layers.Dense(units=input_channels),\n",
        "            layers.Dropout(rate=self.mlp_dropout_rate),\n",
        "        ]\n",
        "    )\n",
        "\n",
        "  def call(self, x):\n",
        "    x = self.mlp(x)\n",
        "    return x"
      ],
      "metadata": {
        "id": "hX7vlVXf7uAz"
      },
      "execution_count": 9,
      "outputs": []
    },
    {
      "cell_type": "markdown",
      "source": [
        "## The DropPath layer"
      ],
      "metadata": {
        "id": "meQRgK9xDTTl"
      }
    },
    {
      "cell_type": "code",
      "source": [
        "class DropPath(keras.layers.Layer):\n",
        "  # A layer that randomly drops residual paths during training\n",
        "\n",
        "  def __init__(self, drop_path_prob, **kwargs):\n",
        "    '''\n",
        "    Args:\n",
        "        drop_path_prob (float): The probability of dropping a residual path\n",
        "    '''\n",
        "    super().__init__(**kwargs)\n",
        "    self.drop_path_prob = drop_path_prob\n",
        "\n",
        "  def call(self, x, training=False):\n",
        "    if training:\n",
        "      keep_prob = 1 - self.drop_path_prob\n",
        "      shape = (tf.shape(x)[0],) + (1,) * (len(tf.shape(x)) - 1)  # Subtract 1 from the length here\n",
        "      random_tensor = keep_prob + tf.random.uniform(shape, 0, 1)\n",
        "      random_tensor = tf.floor(random_tensor)\n",
        "      return (x / keep_prob) * random_tensor\n",
        "    return x\n",
        "\n",
        "  def get_config(self):\n",
        "    config = {'drop_path_prob': self.drop_path_prob}\n",
        "    return config"
      ],
      "metadata": {
        "id": "5oLLA0cEDNXU"
      },
      "execution_count": 10,
      "outputs": []
    },
    {
      "cell_type": "markdown",
      "source": [
        "## Shift operation Block\n",
        "- **Procedure:**\n",
        "\n",
        " - Split the channels with the num_div parameter.\n",
        "  - Select each of the first four spilts and shift and pad them in the respective directions.\n",
        "  - After shifting and padding, we concatenate the channel back.\n",
        "\n",
        "![](https://i.imgur.com/PReeULP.gif)"
      ],
      "metadata": {
        "id": "a07H9BEJElNF"
      }
    },
    {
      "cell_type": "code",
      "source": [
        "# out[:, g * 0:g * 1, :, :-1] = x[:, g * 0:g : 1, :, 1:] # shift left\n",
        "# out[:, g * 1:g * 2, :, 1:] = x[:, g * 1:g * 2, :, :-1] # shift right\n",
        "# out[:, g * 2:g * 3, :-1, :] = x[:, g * 2:g * 3, 1:, :] # shift up\n",
        "# out[:, g * 3:g * 4, 1:, :] = x[:, g * 3:g * 4, :-1, :] # shift down\n",
        "\n",
        "# out[:, g * 4:, :, :] = x[:, g * 4:, :, :] # no shift"
      ],
      "metadata": {
        "id": "jbyXhthPEiVE"
      },
      "execution_count": null,
      "outputs": []
    },
    {
      "cell_type": "code",
      "source": [
        "class ShiftViTBlock(layers.Layer):\n",
        "  '''\n",
        "  A unit ShiftViT Block:\n",
        "\n",
        "    Args:\n",
        "        shift_pixel (int): The number of pixels to shift. Default to 1.\n",
        "        mlp_expand_ratio (int): The ratio with which MLP features are\n",
        "                                expanded. Default to 2.\n",
        "        mlp_dropout_rate (float): The dropout rate used in MLP.\n",
        "        num_div (int): The number of divisions of the feature map's channel.\n",
        "                       Totally, 4/num_div of channels will be shifted. Defaults to 12.\n",
        "        epsilon (float): Epsilon constant.\n",
        "        drop_path_prob (float): The drop probability for drop path.\n",
        "    '''\n",
        "\n",
        "  def __init__( # Fixed: Removed extra indentation\n",
        "      self,\n",
        "      epsilon,\n",
        "      drop_path_prob,\n",
        "      mlp_dropout_rate,\n",
        "      num_div=12,\n",
        "      shift_pixel=1,\n",
        "      mlp_expand_ratio=2,\n",
        "      **kwargs,\n",
        "  ):\n",
        "      super().__init__(**kwargs)\n",
        "      self.shift_pixel = shift_pixel\n",
        "      self.mlp_expand_ratio = mlp_expand_ratio\n",
        "      self.mlp_dropout_rate = mlp_dropout_rate\n",
        "      self.num_div = num_div\n",
        "      self.epsilon = epsilon\n",
        "      self.drop_path_prob = drop_path_prob\n",
        "\n",
        "  def build(self, input_shape):\n",
        "      self.H = input_shape[1]\n",
        "      self.W = input_shape[2]\n",
        "      self.C = input_shape[3]\n",
        "      self.layer_norm = layers.LayerNormalization(epsilon=self.epsilon)\n",
        "      self.drop_path = (\n",
        "          DropPath(drop_path_prob=self.drop_path_prob)\n",
        "          if self.drop_path_prob > 0.0\n",
        "          else layers.Activation('linear')\n",
        "      )\n",
        "      self.mlp = MLP(\n",
        "          mlp_expand_ratio=self.mlp_expand_ratio,\n",
        "          mlp_dropout_rate=self.mlp_dropout_rate,\n",
        "      )\n",
        "\n",
        "  def get_shift_pad(self, x, mode):\n",
        "        # Shifts the channels according to the mode chosen\n",
        "      if mode == 'left':\n",
        "          offset_height = 0\n",
        "          offset_width = 0\n",
        "          target_height = 0\n",
        "          target_width = self.shift_pixel\n",
        "      elif mode == 'right':\n",
        "          offset_height = 0\n",
        "          offset_width = self.shift_pixel\n",
        "          target_height = 0\n",
        "          target_width = self.shift_pixel\n",
        "      elif mode == 'up':\n",
        "          offset_height = 0\n",
        "          offset_width = 0\n",
        "          target_height = self.shift_pixel\n",
        "          target_width = 0\n",
        "      else:\n",
        "          offset_height = self.shift_pixel\n",
        "          offset_width = 0\n",
        "          target_height = self.shift_pixel\n",
        "          target_width = 0\n",
        "\n",
        "      crop = tf.image.crop_to_bounding_box(\n",
        "            x,\n",
        "            offset_height=offset_height,\n",
        "            offset_width=offset_width,\n",
        "            target_height=self.H - target_height,\n",
        "            target_width=self.W - target_width,\n",
        "      )\n",
        "      shift_pad = tf.image.pad_to_bounding_box(\n",
        "            crop,\n",
        "            offset_height=offset_height,\n",
        "            offset_width=offset_width,\n",
        "            target_height=self.H,\n",
        "            target_width=self.W,\n",
        "      )\n",
        "      return shift_pad\n",
        "\n",
        "  def call(self, x, training=False):\n",
        "      # Split the feature maps\n",
        "      x_splits = tf.split(x, num_or_size_splits=self.C // self.num_div, axis=-1)\n",
        "\n",
        "      # Shift the feature maps\n",
        "      x_splits[0] = self.get_shift_pad(x_splits[0], mode='left')\n",
        "      x_splits[1] = self.get_shift_pad(x_splits[1], mode='right')\n",
        "      x_splits[2] = self.get_shift_pad(x_splits[2], mode='up')\n",
        "      x_splits[3] = self.get_shift_pad(x_splits[3], mode='down')\n",
        "\n",
        "      # Concatenate the shifted and unshifted feature maps\n",
        "      x = tf.concat(x_splits, axis=-1)\n",
        "\n",
        "      # Add the residual connection\n",
        "      shortcut = x\n",
        "      x = shortcut + self.drop_path(self.mlp(self.layer_norm(x)), training=training)\n",
        "      return x\n"
      ],
      "metadata": {
        "id": "grs29WXh3dvU"
      },
      "execution_count": 11,
      "outputs": []
    },
    {
      "cell_type": "markdown",
      "source": [
        "## The ShiftViT blocks\n",
        "\n",
        "![](https://i.imgur.com/FKy5NnD.png)\n"
      ],
      "metadata": {
        "id": "451-Pf31O_o2"
      }
    },
    {
      "cell_type": "markdown",
      "source": [
        "### The PatchMerging layer"
      ],
      "metadata": {
        "id": "nYJUBZfUPG15"
      }
    },
    {
      "cell_type": "code",
      "source": [
        "class PatchMerging(layers.Layer):\n",
        "  '''\n",
        "  The Patch Merging Layer:\n",
        "  Args:\n",
        "      epsilon (float): The epsilon constant\n",
        "  '''\n",
        "  def __init__(self, epsilon, **kwargs):\n",
        "    super().__init__(**kwargs)\n",
        "    self.epsilon = epsilon\n",
        "\n",
        "  def build(self, input_shape):\n",
        "    filters = 2 * input_shape[-1]\n",
        "    self.reduction = layers.Conv2D(\n",
        "        filters=filters,\n",
        "        kernel_size=2,\n",
        "        strides=2,\n",
        "        padding='same',\n",
        "        use_bias=False,\n",
        "    )\n",
        "    self.layer_norm = layers.LayerNormalization(epsilon=self.epsilon)\n",
        "\n",
        "  def call(self, x):\n",
        "    # Apply patch merging algorithm on the feature maps\n",
        "    x = self.layer_norm(x)\n",
        "    x = self.reduction(x)\n",
        "    return x"
      ],
      "metadata": {
        "id": "dAMxDMPwPQG3"
      },
      "execution_count": 12,
      "outputs": []
    },
    {
      "cell_type": "markdown",
      "source": [
        "### Stacked Shift Blocks"
      ],
      "metadata": {
        "id": "aQmG-pOJPMbt"
      }
    },
    {
      "cell_type": "code",
      "source": [
        "# This layer will have a different depth of stacking for different stages on the model\n",
        "class StackedShiftBlocks(layers.Layer):\n",
        "  '''\n",
        "  This layer containing stacked ShiftViTBlocks\n",
        "  Args:\n",
        "      epsilon (float): The epsilon constant\n",
        "      mlp_dropout_rate (float): The dropout rate used in MLP\n",
        "      num_shift_blocks (int): The number of shift vit used blocks for this stage\n",
        "      stochastic_depth_rate (float): The maximum drop path rate chosen\n",
        "      is_merge (boolean): A flag that determines the use of the Patch Merge layer after the shift vit blocks\n",
        "      num_div (int): The division of channels of the feature map. Defaults to 12\n",
        "      shift_pixel (int): The number of pixels to shift Defaults to 1\n",
        "      mlp_expand_ratio (int): The ratio with which the initial dense layer of the MLP is expanded defaults to 2\n",
        "  '''\n",
        "  def __init__(\n",
        "      self,\n",
        "      epsilon,\n",
        "      mlp_dropout_rate,\n",
        "      num_shift_blocks,\n",
        "      stochastic_depth_rate,\n",
        "      is_merge,\n",
        "      num_div=12,\n",
        "      shift_pixel=1,\n",
        "      mlp_expand_ratio=2,\n",
        "      **kwargs,\n",
        "  ):\n",
        "      super().__init__(**kwargs)\n",
        "      self.epsilon = epsilon\n",
        "      self.mlp_dropout_rate = mlp_dropout_rate\n",
        "      self.num_shift_blocks = num_shift_blocks\n",
        "      self.stochastic_depth_rate = stochastic_depth_rate\n",
        "      self.is_merge = is_merge\n",
        "      self.num_div = num_div\n",
        "      self.shift_pixel = shift_pixel\n",
        "      self.mlp_expand_ratio = mlp_expand_ratio\n",
        "\n",
        "  def build(self, input_shape):\n",
        "    # Calculate stochastic depth probabilities\n",
        "    dpr = [\n",
        "        x\n",
        "        for x in np.linspace(\n",
        "            start=0, stop=self.stochastic_depth_rate, num=self.num_shift_blocks\n",
        "        )\n",
        "    ]\n",
        "\n",
        "    # Build the shift blocks as a list of ShiftViT Blocks\n",
        "    self.shift_blocks = list()\n",
        "    for num in range(self.num_shift_blocks):\n",
        "      self.shift_blocks.append(\n",
        "          ShiftViTBlock(\n",
        "              num_div=self.num_div,\n",
        "              epsilon=self.epsilon,\n",
        "              drop_path_prob=dpr[num],\n",
        "              mlp_dropout_rate=self.mlp_dropout_rate,\n",
        "              shift_pixel=self.shift_pixel,\n",
        "              mlp_expand_ratio=self.mlp_expand_ratio,\n",
        "          )\n",
        "      )\n",
        "\n",
        "      if self.is_merge:\n",
        "        self.patch_merge = PatchMerging(epsilon=self.epsilon)\n",
        "\n",
        "  def call(self, x, training=False):\n",
        "    for shift_block in self.shift_blocks:\n",
        "      x = shift_block(x, training=training)\n",
        "    if self.is_merge:\n",
        "      x = self.patch_merge(x)\n",
        "    return x\n",
        "\n",
        "  # Since this is a custom layer, we need to overwrite get_config(), so that model can easily be saved and loaded after training\n",
        "  def get_config(self):\n",
        "    config = super().get_config()\n",
        "    config.update(\n",
        "        {\n",
        "            'epsilon': self.epsilon,\n",
        "            'mlp_dropout_rate': self.mlp_dropout_rate,\n",
        "            'num_shift_blocks': self.num_shift_blocks,\n",
        "            'stochastic_depth_rate': self.stochastic_depth_rate,\n",
        "            'is_merge': self.is_merge,\n",
        "            'num_div': self.num_div,\n",
        "            'shift_pixel': self.shift_pixel,\n",
        "            'mlp_expand_ratio': self.mlp_expand_ratio,\n",
        "        }\n",
        "    )\n",
        "    return config"
      ],
      "metadata": {
        "id": "5Z-Qsz3Qj2Y0"
      },
      "execution_count": 13,
      "outputs": []
    },
    {
      "cell_type": "markdown",
      "source": [
        "## The ShiftViT model"
      ],
      "metadata": {
        "id": "bv3vtNE8qlF7"
      }
    },
    {
      "cell_type": "code",
      "source": [
        "class ShiftViTModel(keras.Model):\n",
        "    \"\"\"The ShiftViT Model.\n",
        "\n",
        "    Args:\n",
        "        data_augmentation (keras.Model): A data augmentation model.\n",
        "        projected_dim (int): The dimension to which the patches of the image are\n",
        "            projected.\n",
        "        patch_size (int): The patch size of the images.\n",
        "        num_shift_blocks_per_stages (list[int]): A list of all the number of shit\n",
        "            blocks per stage.\n",
        "        epsilon (float): The epsilon constant.\n",
        "        mlp_dropout_rate (float): The dropout rate used in the MLP block.\n",
        "        stochastic_depth_rate (float): The maximum drop rate probability.\n",
        "        num_div (int): The number of divisions of the channesl of the feature\n",
        "            map. Defaults to 12.\n",
        "        shift_pixel (int): The number of pixel to shift. Default to 1.\n",
        "        mlp_expand_ratio (int): The ratio with which the initial mlp dense layer\n",
        "            is expanded to. Defaults to 2.\n",
        "    \"\"\"\n",
        "\n",
        "    def __init__(\n",
        "        self,\n",
        "        data_augmentation,\n",
        "        projected_dim,\n",
        "        patch_size,\n",
        "        num_shift_blocks_per_stages,\n",
        "        epsilon,\n",
        "        mlp_dropout_rate,\n",
        "        stochastic_depth_rate,\n",
        "        num_div=12,\n",
        "        shift_pixel=1,\n",
        "        mlp_expand_ratio=2,\n",
        "        **kwargs,\n",
        "    ):\n",
        "        super().__init__(**kwargs)\n",
        "        self.data_augmentation = data_augmentation\n",
        "        self.patch_projection = layers.Conv2D(\n",
        "            filters=projected_dim,\n",
        "            kernel_size=patch_size,\n",
        "            strides=patch_size,\n",
        "            padding=\"same\",\n",
        "        )\n",
        "        self.stages = list()\n",
        "        for index, num_shift_blocks in enumerate(num_shift_blocks_per_stages):\n",
        "            if index == len(num_shift_blocks_per_stages) - 1:\n",
        "                # This is the last stage, do not use the patch merge here.\n",
        "                is_merge = False\n",
        "            else:\n",
        "                is_merge = True\n",
        "            # Build the stages.\n",
        "            self.stages.append(\n",
        "                StackedShiftBlocks(\n",
        "                    epsilon=epsilon,\n",
        "                    mlp_dropout_rate=mlp_dropout_rate,\n",
        "                    num_shift_blocks=num_shift_blocks,\n",
        "                    stochastic_depth_rate=stochastic_depth_rate,\n",
        "                    is_merge=is_merge,\n",
        "                    num_div=num_div,\n",
        "                    shift_pixel=shift_pixel,\n",
        "                    mlp_expand_ratio=mlp_expand_ratio,\n",
        "                )\n",
        "            )\n",
        "        self.global_avg_pool = layers.GlobalAveragePooling2D()\n",
        "\n",
        "        self.classifier = layers.Dense(config.num_classes)\n",
        "\n",
        "    def get_config(self):\n",
        "        config = super().get_config()\n",
        "        config.update(\n",
        "            {\n",
        "                \"data_augmentation\": self.data_augmentation,\n",
        "                \"patch_projection\": self.patch_projection,\n",
        "                \"stages\": self.stages,\n",
        "                \"global_avg_pool\": self.global_avg_pool,\n",
        "                \"classifier\": self.classifier,\n",
        "            }\n",
        "        )\n",
        "        return config\n",
        "\n",
        "    def _calculate_loss(self, data, training=False):\n",
        "        (images, labels) = data\n",
        "\n",
        "        # Augment the images\n",
        "        augmented_images = self.data_augmentation(images, training=training)\n",
        "\n",
        "        # Create patches and project the pathces.\n",
        "        projected_patches = self.patch_projection(augmented_images)\n",
        "\n",
        "        # Pass through the stages\n",
        "        x = projected_patches\n",
        "        for stage in self.stages:\n",
        "            x = stage(x, training=training)\n",
        "\n",
        "        # Get the logits.\n",
        "        x = self.global_avg_pool(x)\n",
        "        logits = self.classifier(x)\n",
        "\n",
        "        # Calculate the loss and return it.\n",
        "        total_loss = self.compiled_loss(labels, logits)\n",
        "        return total_loss, labels, logits\n",
        "\n",
        "    def train_step(self, inputs):\n",
        "        with tf.GradientTape() as tape:\n",
        "            total_loss, labels, logits = self._calculate_loss(\n",
        "                data=inputs, training=True\n",
        "            )\n",
        "\n",
        "        # Apply gradients.\n",
        "        train_vars = [\n",
        "            self.data_augmentation.trainable_variables,\n",
        "            self.patch_projection.trainable_variables,\n",
        "            self.global_avg_pool.trainable_variables,\n",
        "            self.classifier.trainable_variables,\n",
        "        ]\n",
        "        train_vars = train_vars + [stage.trainable_variables for stage in self.stages]\n",
        "\n",
        "        # Optimize the gradients.\n",
        "        grads = tape.gradient(total_loss, train_vars)\n",
        "        trainable_variable_list = []\n",
        "        for (grad, var) in zip(grads, train_vars):\n",
        "            for g, v in zip(grad, var):\n",
        "                trainable_variable_list.append((g, v))\n",
        "        self.optimizer.apply_gradients(trainable_variable_list)\n",
        "\n",
        "        # Update the metrics\n",
        "        self.compiled_metrics.update_state(labels, logits)\n",
        "        return {m.name: m.result() for m in self.metrics}\n",
        "\n",
        "    def test_step(self, data):\n",
        "        _, labels, logits = self._calculate_loss(data=data, training=False)\n",
        "\n",
        "        # Update the metrics\n",
        "        self.compiled_metrics.update_state(labels, logits)\n",
        "        return {m.name: m.result() for m in self.metrics}\n",
        "\n",
        "    def call(self, images):\n",
        "        augmented_images = self.data_augmentation(images)\n",
        "        x = self.patch_projection(augmented_images)\n",
        "        for stage in self.stages:\n",
        "            x = stage(x, training=False)\n",
        "        x = self.global_avg_pool(x)\n",
        "        logits = self.classifier(x)\n",
        "        return logits"
      ],
      "metadata": {
        "id": "kJYe3UraqcrK"
      },
      "execution_count": 20,
      "outputs": []
    },
    {
      "cell_type": "markdown",
      "source": [
        "## Instantiate the model"
      ],
      "metadata": {
        "id": "8FjCYMmJ18bK"
      }
    },
    {
      "cell_type": "code",
      "source": [
        "model = ShiftViTModel(\n",
        "    data_augmentation=get_augmentation_model(),\n",
        "    projected_dim=config.projection_dim,\n",
        "    patch_size=config.patch_size,\n",
        "    num_shift_blocks_per_stages=config.num_shift_blocks_per_stages,\n",
        "    epsilon=config.epsilon,\n",
        "    mlp_dropout_rate=config.mlp_dropout_rate,\n",
        "    stochastic_depth_rate=config.stochastic_depth_rate,\n",
        "    num_div=config.num_div,\n",
        "    shift_pixel=config.shift_pixel,\n",
        "    mlp_expand_ratio=config.mlp_expand_ratio,\n",
        ")"
      ],
      "metadata": {
        "id": "XnyM0_mW19dJ"
      },
      "execution_count": 21,
      "outputs": []
    },
    {
      "cell_type": "markdown",
      "source": [
        "## Learning rate schedule"
      ],
      "metadata": {
        "id": "cy7v45oJ5xz-"
      }
    },
    {
      "cell_type": "code",
      "source": [
        "class WarmUpCosine(keras.optimizers.schedules.LearningRateSchedule):\n",
        "  # A LearningRateSchedule that uses a warmup cosine decay schedule\n",
        "\n",
        "  def __init__(self, lr_start, lr_max, warmup_steps, total_steps):\n",
        "    '''\n",
        "    Args:\n",
        "        lr_start (float): The initial learning rate\n",
        "        lr_max (float): The maximum learning rate\n",
        "        warmup_steps (int): The number of warmup steps\n",
        "        total_steps (int): The total number of steps\n",
        "    '''\n",
        "    super().__init__()\n",
        "    self.lr_start = lr_start\n",
        "    self.lr_max = lr_max\n",
        "    self.warmup_steps = warmup_steps\n",
        "    self.total_steps = total_steps\n",
        "    self.pi = tf.constant(np.pi)\n",
        "\n",
        "  def __call__(self, step):\n",
        "    # Check wether the total number of steps is larger than the warmup steps\n",
        "    if self.total_steps < self.warmup_steps:\n",
        "      raise ValueError(\n",
        "          f'Total number of steps {self.total_steps} must be' +\n",
        "          f'larger or equal to warmup steps {self.warmup_steps}.'\n",
        "      )\n",
        "\n",
        "    # 'cos_annealed_lr'\n",
        "    cos_annealed_lr = tf.cos(\n",
        "        self.pi\n",
        "        * (tf.cast(step, tf.float32) - self.warmup_steps)\n",
        "        / tf.cast(self.total_steps - self.warmup_steps, tf.float32)\n",
        "    )\n",
        "\n",
        "    learning_rate = 0.5 * self.lr_max * (1 + cos_annealed_lr)\n",
        "\n",
        "    # Check weather warmup step is more than 0\n",
        "    if self.warmup_steps > 0:\n",
        "      if self.lr_max < self.lr_start:\n",
        "        raise ValueError(\n",
        "            f'lr_srart {self.lr_start} must be smaller or' +\n",
        "            f'equal to lr_max {self.lr_max}.'\n",
        "        )\n",
        "\n",
        "      slope = (self.lr_max - self.lr_start) / self.warmup_steps\n",
        "\n",
        "      warmup_rate = slope * tf.cast(step, tf.float32) + self.lr_start\n",
        "\n",
        "      learning_rate = tf.where(\n",
        "          step < self.warmup_steps,\n",
        "          warmup_rate,\n",
        "          learning_rate,\n",
        "      )\n",
        "\n",
        "    return tf.where(\n",
        "        step > self.total_steps, 0.0, learning_rate, name='learning_rate'\n",
        "    )\n",
        "\n",
        "  def get_config(self):\n",
        "    config = {\n",
        "        'lr_start': self.lr_start,\n",
        "        'lr_max': self.lr_max,\n",
        "        'total_steps': self.total_steps,\n",
        "        'warmup_steps': self.warmup_steps,\n",
        "    }\n",
        "    return config"
      ],
      "metadata": {
        "id": "4_xCGWnd31jm"
      },
      "execution_count": 24,
      "outputs": []
    },
    {
      "cell_type": "markdown",
      "source": [
        "## Compile and train the model"
      ],
      "metadata": {
        "id": "fBgptmI_-XXf"
      }
    },
    {
      "cell_type": "code",
      "source": [
        "sample_ds, _ = next(iter(train_ds))\n",
        "model(sample_ds, training=False)\n",
        "\n",
        "total_steps = int((len(x_train) / config.batch_size) * config.epochs)\n",
        "\n",
        "warmup_epoch_percentage = 0.15\n",
        "warmup_steps = int(total_steps * warmup_epoch_percentage)\n",
        "\n",
        "scheduled_lrs = WarmUpCosine(\n",
        "    lr_start=1e-5,\n",
        "    lr_max=1e-3,\n",
        "    warmup_steps=warmup_steps,\n",
        "    total_steps=total_steps,\n",
        ")\n",
        "\n",
        "optimizer = tfa.optimizers.AdamW(\n",
        "    learning_rate=scheduled_lrs, weight_decay=1e-2\n",
        ")\n",
        "\n",
        "model.compile(\n",
        "    optimizer=optimizer,\n",
        "    loss=keras.losses.SparseCategoricalCrossentropy(from_logits=True), # Fixed typo here\n",
        "    metrics=[\n",
        "        keras.metrics.SparseCategoricalAccuracy(name='accuracy'),\n",
        "        keras.metrics.SparseTopKCategoricalAccuracy(5, name='top-5-accuracy'),\n",
        "    ],\n",
        ")\n",
        "\n",
        "history = model.fit(\n",
        "    train_ds,\n",
        "    epochs=config.epochs,\n",
        "    validation_data=val_ds,\n",
        "    callbacks=[\n",
        "        keras.callbacks.EarlyStopping(\n",
        "            monitor='val_accuracy',\n",
        "            patience=5,\n",
        "            mode='auto',\n",
        "        )\n",
        "    ],\n",
        ")\n",
        "\n",
        "print('TESTING')\n",
        "loss, acc_top1, acc_top5 = model.evaluate(test_ds)\n",
        "print(f'loss: {loss:0.02f}')\n",
        "print(f'Top 1 test accuracy: {acc_top1*100:0.2f}%')\n",
        "print(f'Top 5 test accuracy: {acc_top5*100:0.2f}%')"
      ],
      "metadata": {
        "colab": {
          "base_uri": "https://localhost:8080/"
        },
        "id": "wIQBSWbX-ZdV",
        "outputId": "01e95b74-c5d8-4d8f-9c37-08800298f3ce"
      },
      "execution_count": 25,
      "outputs": [
        {
          "output_type": "stream",
          "name": "stdout",
          "text": [
            "Epoch 1/5\n",
            "157/157 [==============================] - 930s 6s/step - loss: 2.0639 - accuracy: 0.2480 - top-5-accuracy: 0.7374 - val_loss: 1.8980 - val_accuracy: 0.3198 - val_top-5-accuracy: 0.8225\n",
            "Epoch 2/5\n",
            "157/157 [==============================] - 897s 6s/step - loss: 1.9060 - accuracy: 0.3098 - top-5-accuracy: 0.8201 - val_loss: 1.8782 - val_accuracy: 0.3134 - val_top-5-accuracy: 0.8181\n",
            "Epoch 3/5\n",
            "157/157 [==============================] - 893s 6s/step - loss: 1.9061 - accuracy: 0.3065 - top-5-accuracy: 0.8219 - val_loss: 1.9600 - val_accuracy: 0.2926 - val_top-5-accuracy: 0.8045\n",
            "Epoch 4/5\n",
            "157/157 [==============================] - 1129s 7s/step - loss: 1.9643 - accuracy: 0.2960 - top-5-accuracy: 0.8131 - val_loss: 2.0548 - val_accuracy: 0.2750 - val_top-5-accuracy: 0.8023\n",
            "Epoch 5/5\n",
            "157/157 [==============================] - 1016s 6s/step - loss: 2.2271 - accuracy: 0.1811 - top-5-accuracy: 0.6819 - val_loss: 2.3026 - val_accuracy: 0.0952 - val_top-5-accuracy: 0.5018\n",
            "TESTING\n",
            "40/40 [==============================] - 77s 2s/step - loss: 2.3026 - accuracy: 0.1000 - top-5-accuracy: 0.5000\n",
            "loss: 2.30\n",
            "Top 1 test accuracy: 10.00%\n",
            "Top 5 test accuracy: 50.00%\n"
          ]
        }
      ]
    },
    {
      "cell_type": "markdown",
      "source": [
        "- train on 50 epochs to get better results"
      ],
      "metadata": {
        "id": "wjeMPWRqQYBI"
      }
    },
    {
      "cell_type": "markdown",
      "source": [
        "## Save trained model"
      ],
      "metadata": {
        "id": "JlZdS5q68Vsg"
      }
    },
    {
      "cell_type": "code",
      "source": [
        "model.save('ShiftViT')"
      ],
      "metadata": {
        "id": "0FAG2uuf8YJ4"
      },
      "execution_count": 26,
      "outputs": []
    },
    {
      "cell_type": "markdown",
      "source": [
        "## Model inference"
      ],
      "metadata": {
        "id": "TLPgrODQHAjg"
      }
    },
    {
      "cell_type": "code",
      "source": [
        "# Download sample data for inference\n",
        "!wget -q 'https://tinyurl.com/2p9483sw' -O inference_set.zip\n",
        "!unzip -q inference_set.zip"
      ],
      "metadata": {
        "id": "3rKXpGYXHB0g"
      },
      "execution_count": 28,
      "outputs": []
    },
    {
      "cell_type": "code",
      "source": [
        "# Load saved model\n",
        "saved_model = tf.keras.models.load_model(\n",
        "    'ShiftViT',\n",
        "    custom_objects={'WarmUpCosine': WarmUpCosine, 'AdamW': tfa.optimizers.AdamW},\n",
        ")"
      ],
      "metadata": {
        "id": "yt6PDLcvHiF7"
      },
      "execution_count": 29,
      "outputs": []
    },
    {
      "cell_type": "code",
      "source": [
        "# Utility functions for inference\n",
        "def process_image(img_path):\n",
        "  img = tf.io.read_file(img_path)\n",
        "\n",
        "  img = tf.io.decode_jpeg(img, channels=3)\n",
        "\n",
        "  img = tf.image.resize(\n",
        "      img, [config.input_shape[0], config.input_shape[1]], method='nearest'\n",
        "  )\n",
        "  return img\n",
        "\n",
        "def create_tf_dataset(image_dir):\n",
        "  data_dir = pathlib.Path(image_dir)\n",
        "\n",
        "  predict_ds = tf.data.Dataset.list_files(str(data_dir / '*.jpg'), shuffle=False)\n",
        "\n",
        "  predict_ds = predict_ds.map(process_image, num_parallel_calls=AUTO)\n",
        "\n",
        "  predict_ds = predict_ds.batch(config.tf_ds_batch_size).prefetch(AUTO)\n",
        "  return predict_ds\n",
        "\n",
        "def predict(predict_ds):\n",
        "  logits = saved_model.predict(predict_ds)\n",
        "\n",
        "  probabilities = tf.nn.softmax(logits)\n",
        "  return probabilities\n",
        "\n",
        "def get_predicted_class(probabilities):\n",
        "  pred_label = np.argmax(probabilities)\n",
        "  predicted_class = config.label_map[pred_label]\n",
        "  return predicted_class\n",
        "\n",
        "def get_confidence_scores(probabilities):\n",
        "  labels = np.argsort(probabilities)[::-1]\n",
        "  confidences = {\n",
        "      config.label_map[label]: np.round((probabilities[label]) * 100, 2)\n",
        "      for label in labels\n",
        "  }\n",
        "\n",
        "  return confidences"
      ],
      "metadata": {
        "id": "7jr3rLpdIFo1"
      },
      "execution_count": 30,
      "outputs": []
    },
    {
      "cell_type": "code",
      "source": [
        "# Get predictions\n",
        "img_dir = 'inference_set'\n",
        "predict_ds = create_tf_dataset(img_dir)\n",
        "probabilities = predict(predict_ds)\n",
        "print(f'probabilities: {probabilities[0]}')\n",
        "\n",
        "confidences = get_confidence_scores(probabilities[0])\n",
        "print(confidences)"
      ],
      "metadata": {
        "colab": {
          "base_uri": "https://localhost:8080/"
        },
        "id": "0NKxx4OYOgiG",
        "outputId": "69984d68-2d6d-46dc-de40-0093153db346"
      },
      "execution_count": 31,
      "outputs": [
        {
          "output_type": "stream",
          "name": "stdout",
          "text": [
            "1/1 [==============================] - 2s 2s/step\n",
            "probabilities: [0.10011393 0.10000818 0.10014922 0.10013884 0.09985273 0.09997135\n",
            " 0.09978589 0.09992218 0.10000063 0.10005701]\n",
            "{'bird': 10.01, 'cat': 10.01, 'airplane': 10.01, 'truck': 10.01, 'automobile': 10.0, 'ship': 10.0, 'dog': 10.0, 'horse': 9.99, 'deer': 9.99, 'frog': 9.98}\n"
          ]
        }
      ]
    },
    {
      "cell_type": "code",
      "source": [
        "# View predictions\n",
        "plt.figure(figsize=(10, 10))\n",
        "for images in predict_ds:\n",
        "  for i in range(min(6, probabilities.shape[0])):\n",
        "    ax = plt.subplot(3, 3, i+1)\n",
        "    plt.imshow(images[i].numpy().astype('uint8'))\n",
        "    predicted_class = get_predicted_class(probabilities[i])\n",
        "    plt.title(predicted_class)\n",
        "    plt.axis('off')"
      ],
      "metadata": {
        "colab": {
          "base_uri": "https://localhost:8080/",
          "height": 445
        },
        "id": "6Cq25T53Ph4I",
        "outputId": "f0680fed-a50e-41bd-c7eb-7f2152fbc243"
      },
      "execution_count": 32,
      "outputs": [
        {
          "output_type": "display_data",
          "data": {
            "text/plain": [
              "<Figure size 1000x1000 with 6 Axes>"
            ],
            "image/png": "[encoded data removed]"
          },
          "metadata": {}
        }
      ]
    },
    {
      "cell_type": "code",
      "source": [],
      "metadata": {
        "id": "rD8dn_rgQLnw"
      },
      "execution_count": null,
      "outputs": []
    }
  ]
}